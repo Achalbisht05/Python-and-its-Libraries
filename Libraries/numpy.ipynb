{
 "cells": [
  {
   "cell_type": "markdown",
   "id": "40a28934-70a0-4946-ad27-abea5ba2e480",
   "metadata": {},
   "source": [
    "# Numpy"
   ]
  },
  {
   "cell_type": "markdown",
   "id": "2b44c3f1-7db9-430f-9419-ad23607bfa71",
   "metadata": {},
   "source": [
    "numerical Python\n",
    "https://numpy.org/"
   ]
  },
  {
   "cell_type": "code",
   "execution_count": 2,
   "id": "13a6c1e9-00fc-435d-91f7-5b05a7f863b0",
   "metadata": {},
   "outputs": [],
   "source": [
    "import numpy as np"
   ]
  },
  {
   "cell_type": "code",
   "execution_count": 3,
   "id": "a4e57be3-a23b-4d29-abc5-5f9fbc1e1fd7",
   "metadata": {},
   "outputs": [
    {
     "data": {
      "text/plain": [
       "array([], dtype=float64)"
      ]
     },
     "execution_count": 3,
     "metadata": {},
     "output_type": "execute_result"
    }
   ],
   "source": [
    "a1=np.array([])\n",
    "a1\n"
   ]
  },
  {
   "cell_type": "code",
   "execution_count": 46,
   "id": "f1bb3e9f-c7bd-443d-ada2-5c45ec43b1f5",
   "metadata": {},
   "outputs": [
    {
     "data": {
      "text/plain": [
       "array([1, 2, 3, 4])"
      ]
     },
     "execution_count": 46,
     "metadata": {},
     "output_type": "execute_result"
    }
   ],
   "source": [
    "a2=np.array([1,2,3,4])\n",
    "a2"
   ]
  },
  {
   "cell_type": "code",
   "execution_count": 47,
   "id": "b05d3bbf-b08f-4042-adb5-4a235abbd598",
   "metadata": {},
   "outputs": [
    {
     "data": {
      "text/plain": [
       "np.int64(4)"
      ]
     },
     "execution_count": 47,
     "metadata": {},
     "output_type": "execute_result"
    }
   ],
   "source": [
    "a2.max()\n"
   ]
  },
  {
   "cell_type": "code",
   "execution_count": 48,
   "id": "7c3e60af-5b5d-44d1-a6c9-5e9ff30f0649",
   "metadata": {},
   "outputs": [
    {
     "data": {
      "text/plain": [
       "np.int64(1)"
      ]
     },
     "execution_count": 48,
     "metadata": {},
     "output_type": "execute_result"
    }
   ],
   "source": [
    "a2.min()"
   ]
  },
  {
   "cell_type": "code",
   "execution_count": 42,
   "id": "6b7bebe7-f836-4c80-ba7e-9e1a79c99134",
   "metadata": {},
   "outputs": [
    {
     "data": {
      "text/plain": [
       "np.float64(2.5)"
      ]
     },
     "execution_count": 42,
     "metadata": {},
     "output_type": "execute_result"
    }
   ],
   "source": [
    "a2.mean()"
   ]
  },
  {
   "cell_type": "code",
   "execution_count": 11,
   "id": "2ef13ee5-bb4b-4665-84e8-898a81cc7a7f",
   "metadata": {},
   "outputs": [
    {
     "data": {
      "text/plain": [
       "1"
      ]
     },
     "execution_count": 11,
     "metadata": {},
     "output_type": "execute_result"
    }
   ],
   "source": [
    "a2.ndim"
   ]
  },
  {
   "cell_type": "code",
   "execution_count": 12,
   "id": "638fb722-642e-41e1-98be-d682879fa5b9",
   "metadata": {},
   "outputs": [
    {
     "data": {
      "text/plain": [
       "(4,)"
      ]
     },
     "execution_count": 12,
     "metadata": {},
     "output_type": "execute_result"
    }
   ],
   "source": [
    "a2.shape"
   ]
  },
  {
   "cell_type": "markdown",
   "id": "ad55a18b-f8b9-40c4-b2b5-13e1be750da3",
   "metadata": {},
   "source": [
    "### Different ways of creating numpys array"
   ]
  },
  {
   "cell_type": "code",
   "execution_count": 17,
   "id": "0a50713d-ba15-427b-9fd9-11a228e9ab29",
   "metadata": {},
   "outputs": [],
   "source": [
    "a1=np.array([1,2,3,4])"
   ]
  },
  {
   "cell_type": "code",
   "execution_count": 18,
   "id": "93ba68fb-6635-4f59-9482-13e828a8b49e",
   "metadata": {},
   "outputs": [
    {
     "data": {
      "text/plain": [
       "array([1, 2, 3, 4])"
      ]
     },
     "execution_count": 18,
     "metadata": {},
     "output_type": "execute_result"
    }
   ],
   "source": [
    "a1"
   ]
  },
  {
   "cell_type": "code",
   "execution_count": 20,
   "id": "36a54865-73c8-4bc3-a1ae-00b8060d9875",
   "metadata": {},
   "outputs": [
    {
     "data": {
      "text/plain": [
       "array([ 1,  2,  3,  4,  5,  6,  7,  8,  9, 10, 11, 12, 13, 14, 15, 16, 17,\n",
       "       18, 19, 20, 21, 22, 23, 24])"
      ]
     },
     "execution_count": 20,
     "metadata": {},
     "output_type": "execute_result"
    }
   ],
   "source": [
    "a2=np.arange(1,25)\n",
    "a2"
   ]
  },
  {
   "cell_type": "code",
   "execution_count": 25,
   "id": "fef60be6-caf7-4a82-8d17-36f4df003029",
   "metadata": {},
   "outputs": [
    {
     "name": "stdout",
     "output_type": "stream",
     "text": [
      "1 2 3 4 5 6 7 8 9 10 11 12 13 14 15 16 17 18 19 20 21 22 23 24 "
     ]
    }
   ],
   "source": [
    "for i in range (1,25):\n",
    "    print(i,end=\" \")\n"
   ]
  },
  {
   "cell_type": "code",
   "execution_count": 36,
   "id": "d0ca1fd0-47fd-49cc-8e68-850076b831ab",
   "metadata": {},
   "outputs": [
    {
     "name": "stdout",
     "output_type": "stream",
     "text": [
      "1 5 9 13 17 21 "
     ]
    }
   ],
   "source": [
    "for i in range (1,25,4):# start,stop,jump\n",
    "    print(i,end=\" \")\n"
   ]
  },
  {
   "cell_type": "code",
   "execution_count": 27,
   "id": "a4786aa7-7e11-4c8c-b190-90f963fb9d90",
   "metadata": {},
   "outputs": [
    {
     "data": {
      "text/plain": [
       "array([1., 1., 1., 1., 1.])"
      ]
     },
     "execution_count": 27,
     "metadata": {},
     "output_type": "execute_result"
    }
   ],
   "source": [
    "a3=np.ones(5)\n",
    "a3"
   ]
  },
  {
   "cell_type": "code",
   "execution_count": 35,
   "id": "388b38f7-6b1c-4cd0-a40b-a7cfe5d91502",
   "metadata": {},
   "outputs": [
    {
     "data": {
      "text/plain": [
       "array([[1., 1., 1.],\n",
       "       [1., 1., 1.],\n",
       "       [1., 1., 1.],\n",
       "       [1., 1., 1.],\n",
       "       [1., 1., 1.]])"
      ]
     },
     "execution_count": 35,
     "metadata": {},
     "output_type": "execute_result"
    }
   ],
   "source": [
    "a3=np.ones([5,3])\n",
    "a3#(5 rows,3 coloums )"
   ]
  },
  {
   "cell_type": "code",
   "execution_count": 31,
   "id": "904a7978-8b07-4aa5-8be1-9cf115292042",
   "metadata": {},
   "outputs": [
    {
     "data": {
      "text/plain": [
       "array([[0.],\n",
       "       [0.]])"
      ]
     },
     "execution_count": 31,
     "metadata": {},
     "output_type": "execute_result"
    }
   ],
   "source": [
    "a4=np.zeros((2,1))\n",
    "a4"
   ]
  },
  {
   "cell_type": "code",
   "execution_count": 32,
   "id": "17fc4a63-c0ac-4a86-bfe0-f638f2b3d64e",
   "metadata": {},
   "outputs": [
    {
     "data": {
      "text/plain": [
       "array([[0., 0., 0., 0.],\n",
       "       [0., 0., 0., 0.],\n",
       "       [0., 0., 0., 0.]])"
      ]
     },
     "execution_count": 32,
     "metadata": {},
     "output_type": "execute_result"
    }
   ],
   "source": [
    "a4=np.zeros((3,4))\n",
    "a4"
   ]
  },
  {
   "cell_type": "code",
   "execution_count": 33,
   "id": "d28d756d-f8d7-4e96-8fb1-f876837f55a1",
   "metadata": {},
   "outputs": [
    {
     "data": {
      "text/plain": [
       "(3, 4)"
      ]
     },
     "execution_count": 33,
     "metadata": {},
     "output_type": "execute_result"
    }
   ],
   "source": [
    "a4.shape"
   ]
  },
  {
   "cell_type": "code",
   "execution_count": 49,
   "id": "f32c1e7d-8264-4d27-856c-323eb56302eb",
   "metadata": {},
   "outputs": [
    {
     "data": {
      "text/plain": [
       "array([1.+0.j, 1.+0.j, 1.+0.j, 1.+0.j, 1.+0.j])"
      ]
     },
     "execution_count": 49,
     "metadata": {},
     "output_type": "execute_result"
    }
   ],
   "source": [
    "a3=np.ones(5,dtype=\"complex\")\n",
    "a3"
   ]
  },
  {
   "cell_type": "code",
   "execution_count": 51,
   "id": "74c620b6-93d5-40a9-bd5d-1144e7cea3a8",
   "metadata": {},
   "outputs": [
    {
     "data": {
      "text/plain": [
       "array([ True,  True,  True,  True,  True])"
      ]
     },
     "execution_count": 51,
     "metadata": {},
     "output_type": "execute_result"
    }
   ],
   "source": [
    "a3=np.ones(5,dtype=\"bool\")\n",
    "a3"
   ]
  },
  {
   "cell_type": "code",
   "execution_count": 54,
   "id": "3e59f0e6-2812-45fb-9de1-46ca7b9601b1",
   "metadata": {},
   "outputs": [
    {
     "data": {
      "text/plain": [
       "array([[1., 0., 0., 0.],\n",
       "       [0., 1., 0., 0.],\n",
       "       [0., 0., 1., 0.],\n",
       "       [0., 0., 0., 1.]])"
      ]
     },
     "execution_count": 54,
     "metadata": {},
     "output_type": "execute_result"
    }
   ],
   "source": [
    "a5=np.identity(4)#diagonaly element\n",
    "a5"
   ]
  },
  {
   "cell_type": "code",
   "execution_count": 57,
   "id": "3e65b6c3-51e4-4a49-adce-71d9e4532fe7",
   "metadata": {},
   "outputs": [
    {
     "data": {
      "text/plain": [
       "array([[0.64837126, 0.37427214],\n",
       "       [0.99727533, 0.20756856],\n",
       "       [0.88931273, 0.44095304]])"
      ]
     },
     "execution_count": 57,
     "metadata": {},
     "output_type": "execute_result"
    }
   ],
   "source": [
    "a6=np.random.rand(3,2)\n",
    "a6"
   ]
  },
  {
   "cell_type": "code",
   "execution_count": 58,
   "id": "71c45f1a-981b-46bf-8607-4cad33acb9a6",
   "metadata": {},
   "outputs": [
    {
     "data": {
      "text/plain": [
       "array([0.28970481, 0.72011525, 0.82195129, 0.85590606, 0.40459708])"
      ]
     },
     "execution_count": 58,
     "metadata": {},
     "output_type": "execute_result"
    }
   ],
   "source": [
    "a6=np.random.rand(5)\n",
    "a6"
   ]
  },
  {
   "cell_type": "code",
   "execution_count": 60,
   "id": "dc35295d-4456-43c8-8f09-5bfef4009f4d",
   "metadata": {},
   "outputs": [
    {
     "data": {
      "text/plain": [
       "array([[0.98994996, 0.61846584, 0.7137734 , 0.52066247],\n",
       "       [0.47006408, 0.53407184, 0.10407836, 0.45529909],\n",
       "       [0.41766148, 0.94920936, 0.22717681, 0.44092076],\n",
       "       [0.18024831, 0.65356008, 0.02489845, 0.86296151],\n",
       "       [0.61031771, 0.09762213, 0.58612706, 0.60232896]])"
      ]
     },
     "execution_count": 60,
     "metadata": {},
     "output_type": "execute_result"
    }
   ],
   "source": [
    "a7=np.random.random([5,4])\n",
    "a7"
   ]
  },
  {
   "cell_type": "code",
   "execution_count": 67,
   "id": "d8f15abf-4996-40cd-8bf9-92de4074d805",
   "metadata": {},
   "outputs": [
    {
     "data": {
      "text/plain": [
       "array([24, 39, 34, 28, 41], dtype=int32)"
      ]
     },
     "execution_count": 67,
     "metadata": {},
     "output_type": "execute_result"
    }
   ],
   "source": [
    "a8=np.random.randint(12,45,5)\n",
    "a8# low,high,size"
   ]
  },
  {
   "cell_type": "code",
   "execution_count": 69,
   "id": "e4d02d64-ae3d-4f29-aa3f-e24cd360f43d",
   "metadata": {},
   "outputs": [
    {
     "data": {
      "text/plain": [
       "array([[ 1,  2,  3,  4],\n",
       "       [11, 22, 33, 44],\n",
       "       [12, 13, 14, 15]])"
      ]
     },
     "execution_count": 69,
     "metadata": {},
     "output_type": "execute_result"
    }
   ],
   "source": [
    "a9=np.array([[1,2,3,4],[11,22,33,44],[12,13,14,15]])\n",
    "a9"
   ]
  },
  {
   "cell_type": "code",
   "execution_count": 71,
   "id": "b7eb50c4-9640-47bf-8cf6-50201c6a3e51",
   "metadata": {},
   "outputs": [
    {
     "data": {
      "text/plain": [
       "1"
      ]
     },
     "execution_count": 71,
     "metadata": {},
     "output_type": "execute_result"
    }
   ],
   "source": [
    "a9=np.array([1,2,3,4])\n",
    "a9.ndim"
   ]
  },
  {
   "cell_type": "code",
   "execution_count": 79,
   "id": "d72de813-28b6-4f84-8385-ef4a3983f2c9",
   "metadata": {},
   "outputs": [
    {
     "data": {
      "text/plain": [
       "3"
      ]
     },
     "execution_count": 79,
     "metadata": {},
     "output_type": "execute_result"
    }
   ],
   "source": [
    "a9=np.array([[[1,2,3,4]]])\n",
    "a9.ndim#bracket count"
   ]
  },
  {
   "cell_type": "code",
   "execution_count": 81,
   "id": "506d8e31-3b6c-421b-8a8e-e4c3ff12f12c",
   "metadata": {},
   "outputs": [
    {
     "data": {
      "text/plain": [
       "1"
      ]
     },
     "execution_count": 81,
     "metadata": {},
     "output_type": "execute_result"
    }
   ],
   "source": [
    "a10=np.ravel(a9)\n",
    "a10.ndim# it is use anywhere"
   ]
  },
  {
   "cell_type": "code",
   "execution_count": 82,
   "id": "9e470129-de2a-4e6e-9b1d-1fb46c43faa2",
   "metadata": {},
   "outputs": [
    {
     "data": {
      "text/plain": [
       "1"
      ]
     },
     "execution_count": 82,
     "metadata": {},
     "output_type": "execute_result"
    }
   ],
   "source": [
    "a9=a9.flatten()\n",
    "a9.ndim# restirct to numpy"
   ]
  },
  {
   "cell_type": "markdown",
   "id": "097a77ac-58c5-45d6-bd35-bc91a4bf08a3",
   "metadata": {},
   "source": [
    "# slicing and reshaping"
   ]
  },
  {
   "cell_type": "code",
   "execution_count": 84,
   "id": "ec6b52a4-b2ca-4246-874d-35f608f6e7bc",
   "metadata": {},
   "outputs": [
    {
     "data": {
      "text/plain": [
       "array([ 1,  4,  7, 10, 13, 16, 19, 22])"
      ]
     },
     "execution_count": 84,
     "metadata": {},
     "output_type": "execute_result"
    }
   ],
   "source": [
    "a11=np.arange(1,23,3)\n",
    "a11"
   ]
  },
  {
   "cell_type": "code",
   "execution_count": 85,
   "id": "d94555f8-299e-4104-ac89-ceade45f08d8",
   "metadata": {},
   "outputs": [
    {
     "data": {
      "text/plain": [
       "array([13])"
      ]
     },
     "execution_count": 85,
     "metadata": {},
     "output_type": "execute_result"
    }
   ],
   "source": [
    "a11[4:5]"
   ]
  },
  {
   "cell_type": "code",
   "execution_count": 87,
   "id": "ef91a886-17b6-424c-b1e5-221668f44084",
   "metadata": {},
   "outputs": [
    {
     "data": {
      "text/plain": [
       "array([10, 13, 16])"
      ]
     },
     "execution_count": 87,
     "metadata": {},
     "output_type": "execute_result"
    }
   ],
   "source": [
    "a11[3:-2]"
   ]
  },
  {
   "cell_type": "code",
   "execution_count": 88,
   "id": "672f1606-0dad-4497-9145-a0d5178a1702",
   "metadata": {},
   "outputs": [
    {
     "data": {
      "text/plain": [
       "array([22, 19, 16, 13, 10,  7,  4,  1])"
      ]
     },
     "execution_count": 88,
     "metadata": {},
     "output_type": "execute_result"
    }
   ],
   "source": [
    "a11[::-1]"
   ]
  },
  {
   "cell_type": "code",
   "execution_count": 89,
   "id": "b42c6873-579e-48d4-95e4-88c0a44514f0",
   "metadata": {},
   "outputs": [
    {
     "data": {
      "text/plain": [
       "array([ 1,  4,  7, 10, 13, 16, 19, 22])"
      ]
     },
     "execution_count": 89,
     "metadata": {},
     "output_type": "execute_result"
    }
   ],
   "source": [
    "a11[::1]"
   ]
  },
  {
   "cell_type": "code",
   "execution_count": 90,
   "id": "5b0d10e5-5f75-4660-a316-7daec7c29efb",
   "metadata": {},
   "outputs": [
    {
     "data": {
      "text/plain": [
       "array([22, 16, 10,  4])"
      ]
     },
     "execution_count": 90,
     "metadata": {},
     "output_type": "execute_result"
    }
   ],
   "source": [
    "a11[::-2]"
   ]
  },
  {
   "cell_type": "code",
   "execution_count": 91,
   "id": "91166d48-0628-4bf4-b550-a10bc326b7f9",
   "metadata": {},
   "outputs": [
    {
     "data": {
      "text/plain": [
       "array([ 1,  7, 13, 19])"
      ]
     },
     "execution_count": 91,
     "metadata": {},
     "output_type": "execute_result"
    }
   ],
   "source": [
    "a11[::2]"
   ]
  },
  {
   "cell_type": "code",
   "execution_count": 92,
   "id": "e6bf1877-e54f-479d-9ba8-b4f2f3771276",
   "metadata": {},
   "outputs": [
    {
     "data": {
      "text/plain": [
       "array([ 1, 10, 19])"
      ]
     },
     "execution_count": 92,
     "metadata": {},
     "output_type": "execute_result"
    }
   ],
   "source": [
    "a11[::3]"
   ]
  },
  {
   "cell_type": "code",
   "execution_count": 94,
   "id": "48810269-9bf2-4a1c-a78a-ad0cff3a429c",
   "metadata": {},
   "outputs": [
    {
     "data": {
      "text/plain": [
       "array([16, 13, 10,  7])"
      ]
     },
     "execution_count": 94,
     "metadata": {},
     "output_type": "execute_result"
    }
   ],
   "source": [
    "a11[-3:1:-1]"
   ]
  },
  {
   "cell_type": "code",
   "execution_count": 95,
   "id": "7a6c785d-e803-4893-9553-fa0faa0d41a3",
   "metadata": {},
   "outputs": [
    {
     "data": {
      "text/plain": [
       "array([19, 16, 13, 10,  7])"
      ]
     },
     "execution_count": 95,
     "metadata": {},
     "output_type": "execute_result"
    }
   ],
   "source": [
    "a11[-2:1:-1]"
   ]
  },
  {
   "cell_type": "code",
   "execution_count": 96,
   "id": "8026f95c-7de3-4991-8f1e-eb26b9a87fda",
   "metadata": {},
   "outputs": [
    {
     "data": {
      "text/plain": [
       "array([16, 13, 10,  7,  4])"
      ]
     },
     "execution_count": 96,
     "metadata": {},
     "output_type": "execute_result"
    }
   ],
   "source": [
    "a11[-3:0:-1]"
   ]
  },
  {
   "cell_type": "code",
   "execution_count": 100,
   "id": "f6b5f4f1-9c72-46d2-aa3e-328b1376cb03",
   "metadata": {},
   "outputs": [
    {
     "data": {
      "text/plain": [
       "array([[ 0,  1,  2,  3,  4],\n",
       "       [ 5,  6,  7,  8,  9],\n",
       "       [10, 11, 12, 13, 14],\n",
       "       [15, 16, 17, 18, 19],\n",
       "       [20, 21, 22, 23, 24]])"
      ]
     },
     "execution_count": 100,
     "metadata": {},
     "output_type": "execute_result"
    }
   ],
   "source": [
    "a=np.arange(25).reshape(5,5)\n",
    "a"
   ]
  },
  {
   "cell_type": "code",
   "execution_count": 101,
   "id": "218bccbb-ae24-4f47-b22d-bb5266447d25",
   "metadata": {},
   "outputs": [
    {
     "data": {
      "text/plain": [
       "array([5, 6, 7, 8, 9])"
      ]
     },
     "execution_count": 101,
     "metadata": {},
     "output_type": "execute_result"
    }
   ],
   "source": [
    "a[1]"
   ]
  },
  {
   "cell_type": "code",
   "execution_count": 104,
   "id": "6c84f352-81ab-4d84-b8ae-618ebc0b4c87",
   "metadata": {},
   "outputs": [
    {
     "data": {
      "text/plain": [
       "array([ 1,  6, 11, 16, 21])"
      ]
     },
     "execution_count": 104,
     "metadata": {},
     "output_type": "execute_result"
    }
   ],
   "source": [
    "a[:,1]"
   ]
  },
  {
   "cell_type": "code",
   "execution_count": 105,
   "id": "e7a072f7-2955-4a56-88c0-585eb5170625",
   "metadata": {},
   "outputs": [
    {
     "data": {
      "text/plain": [
       "array([[ 6,  7],\n",
       "       [11, 12]])"
      ]
     },
     "execution_count": 105,
     "metadata": {},
     "output_type": "execute_result"
    }
   ],
   "source": [
    "a[1:3,1:3]"
   ]
  },
  {
   "cell_type": "code",
   "execution_count": 107,
   "id": "51c5c137-cf2d-45d1-8451-df5f1daefc89",
   "metadata": {
    "scrolled": true
   },
   "outputs": [
    {
     "data": {
      "text/plain": [
       "array([[10, 11, 12, 13],\n",
       "       [15, 16, 17, 18],\n",
       "       [20, 21, 22, 23]])"
      ]
     },
     "execution_count": 107,
     "metadata": {},
     "output_type": "execute_result"
    }
   ],
   "source": [
    "a[2:,:-1]"
   ]
  },
  {
   "cell_type": "code",
   "execution_count": 10,
   "id": "be3a1011-a723-4ebc-9660-447608f277a9",
   "metadata": {},
   "outputs": [
    {
     "data": {
      "text/plain": [
       "array([[ 0,  1,  2,  3,  4],\n",
       "       [ 5,  6,  7,  8,  9],\n",
       "       [10, 11, 12, 13, 14],\n",
       "       [15, 16, 17, 18, 19],\n",
       "       [20, 21, 22, 23, 24]])"
      ]
     },
     "execution_count": 10,
     "metadata": {},
     "output_type": "execute_result"
    }
   ],
   "source": [
    "a2=np.arange(25).reshape(5,5)\n",
    "a2"
   ]
  },
  {
   "cell_type": "code",
   "execution_count": 16,
   "id": "dd56c367-fdd0-46f7-b71e-f0bacc8c710c",
   "metadata": {},
   "outputs": [
    {
     "data": {
      "text/plain": [
       "array([[ 5,  6,  7,  8,  9],\n",
       "       [10, 11, 12, 13, 14],\n",
       "       [15, 16, 17, 18, 19],\n",
       "       [20, 21, 22, 23, 24]])"
      ]
     },
     "execution_count": 16,
     "metadata": {},
     "output_type": "execute_result"
    }
   ],
   "source": [
    "a2[1::]"
   ]
  },
  {
   "cell_type": "code",
   "execution_count": 20,
   "id": "82bf1caf-8df8-4192-805e-54505c046c7a",
   "metadata": {},
   "outputs": [
    {
     "data": {
      "text/plain": [
       "array([[ 5,  6,  7,  8,  9],\n",
       "       [10, 11, 12, 13, 14]])"
      ]
     },
     "execution_count": 20,
     "metadata": {},
     "output_type": "execute_result"
    }
   ],
   "source": [
    "a2[1:3:]"
   ]
  },
  {
   "cell_type": "code",
   "execution_count": 24,
   "id": "2c2ee734-6e59-416f-a2dd-68f7495e680c",
   "metadata": {},
   "outputs": [
    {
     "data": {
      "text/plain": [
       "array([[20, 21, 22, 23, 24],\n",
       "       [15, 16, 17, 18, 19],\n",
       "       [10, 11, 12, 13, 14],\n",
       "       [ 5,  6,  7,  8,  9],\n",
       "       [ 0,  1,  2,  3,  4]])"
      ]
     },
     "execution_count": 24,
     "metadata": {},
     "output_type": "execute_result"
    }
   ],
   "source": [
    "a2[::-1]#-1 opposite"
   ]
  },
  {
   "cell_type": "code",
   "execution_count": 29,
   "id": "b1369768-7c80-4990-8636-c40bce9051df",
   "metadata": {},
   "outputs": [
    {
     "data": {
      "text/plain": [
       "array([[ 1,  2],\n",
       "       [ 6,  7],\n",
       "       [11, 12],\n",
       "       [16, 17],\n",
       "       [21, 22]])"
      ]
     },
     "execution_count": 29,
     "metadata": {},
     "output_type": "execute_result"
    }
   ],
   "source": [
    "a2[:,1:3]"
   ]
  },
  {
   "cell_type": "markdown",
   "id": "5fb891b3-f08d-47a8-b6d8-f80535509d89",
   "metadata": {},
   "source": [
    "# array operation"
   ]
  },
  {
   "cell_type": "code",
   "execution_count": 30,
   "id": "790dd26c-da23-45ea-8960-f904e8b02d9a",
   "metadata": {},
   "outputs": [],
   "source": [
    "a1=[1,2,3,4]\n",
    "a2=[5,6,7,8]"
   ]
  },
  {
   "cell_type": "code",
   "execution_count": 31,
   "id": "ac476f38-69e1-4f8b-b768-223804203383",
   "metadata": {},
   "outputs": [
    {
     "data": {
      "text/plain": [
       "[1, 2, 3, 4, 5, 6, 7, 8]"
      ]
     },
     "execution_count": 31,
     "metadata": {},
     "output_type": "execute_result"
    }
   ],
   "source": [
    "a1+a2"
   ]
  },
  {
   "cell_type": "code",
   "execution_count": 51,
   "id": "1f9e8288-3e5b-4a08-8967-a39f9b8a23f6",
   "metadata": {},
   "outputs": [
    {
     "data": {
      "text/plain": [
       "array([  2,  44, 222, 444])"
      ]
     },
     "execution_count": 51,
     "metadata": {},
     "output_type": "execute_result"
    }
   ],
   "source": [
    "a2*2#no is repeat "
   ]
  },
  {
   "cell_type": "code",
   "execution_count": 38,
   "id": "838d9eb9-4c2c-47db-a224-c9a29c5e2b60",
   "metadata": {},
   "outputs": [
    {
     "ename": "TypeError",
     "evalue": "unsupported operand type(s) for /: 'list' and 'list'",
     "output_type": "error",
     "traceback": [
      "\u001b[1;31m---------------------------------------------------------------------------\u001b[0m",
      "\u001b[1;31mTypeError\u001b[0m                                 Traceback (most recent call last)",
      "Cell \u001b[1;32mIn[38], line 1\u001b[0m\n\u001b[1;32m----> 1\u001b[0m \u001b[43ma1\u001b[49m\u001b[38;5;241;43m/\u001b[39;49m\u001b[43ma2\u001b[49m\n",
      "\u001b[1;31mTypeError\u001b[0m: unsupported operand type(s) for /: 'list' and 'list'"
     ]
    }
   ],
   "source": [
    "a1/a2"
   ]
  },
  {
   "cell_type": "code",
   "execution_count": 40,
   "id": "60ebc1c3-65f3-430e-91e3-6c202f470e28",
   "metadata": {},
   "outputs": [
    {
     "ename": "TypeError",
     "evalue": "can't multiply sequence by non-int of type 'list'",
     "output_type": "error",
     "traceback": [
      "\u001b[1;31m---------------------------------------------------------------------------\u001b[0m",
      "\u001b[1;31mTypeError\u001b[0m                                 Traceback (most recent call last)",
      "Cell \u001b[1;32mIn[40], line 1\u001b[0m\n\u001b[1;32m----> 1\u001b[0m \u001b[43ma1\u001b[49m\u001b[38;5;241;43m*\u001b[39;49m\u001b[43ma2\u001b[49m\n",
      "\u001b[1;31mTypeError\u001b[0m: can't multiply sequence by non-int of type 'list'"
     ]
    }
   ],
   "source": [
    "a1*a2"
   ]
  },
  {
   "cell_type": "code",
   "execution_count": 41,
   "id": "70ff8dc6-a0f1-4179-8427-c37af91ab379",
   "metadata": {},
   "outputs": [
    {
     "ename": "TypeError",
     "evalue": "unsupported operand type(s) for ** or pow(): 'list' and 'int'",
     "output_type": "error",
     "traceback": [
      "\u001b[1;31m---------------------------------------------------------------------------\u001b[0m",
      "\u001b[1;31mTypeError\u001b[0m                                 Traceback (most recent call last)",
      "Cell \u001b[1;32mIn[41], line 1\u001b[0m\n\u001b[1;32m----> 1\u001b[0m \u001b[43ma1\u001b[49m\u001b[38;5;241;43m*\u001b[39;49m\u001b[38;5;241;43m*\u001b[39;49m\u001b[38;5;241;43m2\u001b[39;49m\n",
      "\u001b[1;31mTypeError\u001b[0m: unsupported operand type(s) for ** or pow(): 'list' and 'int'"
     ]
    }
   ],
   "source": [
    "a1**2"
   ]
  },
  {
   "cell_type": "code",
   "execution_count": 42,
   "id": "53bdf6e5-e641-4595-aaab-8e47d471f157",
   "metadata": {},
   "outputs": [],
   "source": [
    "a1=np.array([1,2,3,4])\n",
    "a2=np.array([1,22,111,222])"
   ]
  },
  {
   "cell_type": "code",
   "execution_count": 43,
   "id": "06b43d6b-115d-47cf-91a9-ffab602b5f25",
   "metadata": {},
   "outputs": [
    {
     "data": {
      "text/plain": [
       "array([  2,  24, 114, 226])"
      ]
     },
     "execution_count": 43,
     "metadata": {},
     "output_type": "execute_result"
    }
   ],
   "source": [
    "a1+a2"
   ]
  },
  {
   "cell_type": "code",
   "execution_count": 44,
   "id": "9279939a-e98e-4e0a-8a4f-099191702e81",
   "metadata": {},
   "outputs": [
    {
     "data": {
      "text/plain": [
       "array([   0,  -20, -108, -218])"
      ]
     },
     "execution_count": 44,
     "metadata": {},
     "output_type": "execute_result"
    }
   ],
   "source": [
    "a1-a2"
   ]
  },
  {
   "cell_type": "code",
   "execution_count": 45,
   "id": "170d59a5-aeeb-495d-bf71-a489b951f96b",
   "metadata": {},
   "outputs": [
    {
     "data": {
      "text/plain": [
       "array([ 1. , 11. , 37. , 55.5])"
      ]
     },
     "execution_count": 45,
     "metadata": {},
     "output_type": "execute_result"
    }
   ],
   "source": [
    "a2/a1"
   ]
  },
  {
   "cell_type": "code",
   "execution_count": 46,
   "id": "a8f97c5f-2010-41ca-81eb-559a6261100f",
   "metadata": {},
   "outputs": [
    {
     "data": {
      "text/plain": [
       "array([0, 1, 1, 2])"
      ]
     },
     "execution_count": 46,
     "metadata": {},
     "output_type": "execute_result"
    }
   ],
   "source": [
    "a1//2"
   ]
  },
  {
   "cell_type": "code",
   "execution_count": 47,
   "id": "7bc233c6-62c5-45d6-b5f3-819aae9fd45e",
   "metadata": {},
   "outputs": [
    {
     "data": {
      "text/plain": [
       "array([  1,  44, 333, 888])"
      ]
     },
     "execution_count": 47,
     "metadata": {},
     "output_type": "execute_result"
    }
   ],
   "source": [
    "a1*a2"
   ]
  },
  {
   "cell_type": "code",
   "execution_count": 48,
   "id": "bedd0243-3569-42c3-a9f4-0fd15ad91c44",
   "metadata": {},
   "outputs": [
    {
     "data": {
      "text/plain": [
       "array([ 1,  8, 27, 64])"
      ]
     },
     "execution_count": 48,
     "metadata": {},
     "output_type": "execute_result"
    }
   ],
   "source": [
    "a1**3"
   ]
  },
  {
   "cell_type": "code",
   "execution_count": 50,
   "id": "30fe0371-2864-48d2-866a-41c08274a33e",
   "metadata": {},
   "outputs": [
    {
     "data": {
      "text/plain": [
       "array([ 3,  6,  9, 12])"
      ]
     },
     "execution_count": 50,
     "metadata": {},
     "output_type": "execute_result"
    }
   ],
   "source": [
    "a1*3#no is multiply by 3"
   ]
  },
  {
   "cell_type": "markdown",
   "id": "6f30ab3e-f616-4c68-a127-5027abe901a2",
   "metadata": {},
   "source": [
    "# array manipulation"
   ]
  },
  {
   "cell_type": "code",
   "execution_count": 61,
   "id": "f610ad0b-a7d0-4f35-8fa5-b9db2450783a",
   "metadata": {},
   "outputs": [],
   "source": [
    "a1=np.array([1,2,3,4])\n",
    "a2=np.array([22,2,2,2])"
   ]
  },
  {
   "cell_type": "code",
   "execution_count": 62,
   "id": "d25b4e2e-096a-4ef8-a032-40a8d8eb7d53",
   "metadata": {},
   "outputs": [
    {
     "data": {
      "text/plain": [
       "array([ 1,  2,  3,  4, 22,  2,  2,  2])"
      ]
     },
     "execution_count": 62,
     "metadata": {},
     "output_type": "execute_result"
    }
   ],
   "source": [
    "np.hstack([a1,a2])"
   ]
  },
  {
   "cell_type": "code",
   "execution_count": 63,
   "id": "2caa9b49-c45b-4416-b4f1-0c9819f49e99",
   "metadata": {},
   "outputs": [
    {
     "data": {
      "text/plain": [
       "array([[ 1,  2,  3,  4],\n",
       "       [22,  2,  2,  2]])"
      ]
     },
     "execution_count": 63,
     "metadata": {},
     "output_type": "execute_result"
    }
   ],
   "source": [
    "np.vstack([a1,a2])"
   ]
  },
  {
   "cell_type": "code",
   "execution_count": 64,
   "id": "bae4e938-b86e-47ce-86ec-e69038e5faac",
   "metadata": {},
   "outputs": [
    {
     "data": {
      "text/plain": [
       "array([44,  4,  4,  4])"
      ]
     },
     "execution_count": 64,
     "metadata": {},
     "output_type": "execute_result"
    }
   ],
   "source": [
    "a22=a2*2\n",
    "a22"
   ]
  },
  {
   "cell_type": "code",
   "execution_count": 57,
   "id": "ca32e336-a503-48cc-93fe-bdb32d97dc93",
   "metadata": {},
   "outputs": [
    {
     "data": {
      "text/plain": [
       "array([0, 1, 2, 3, 4, 5, 6, 7])"
      ]
     },
     "execution_count": 57,
     "metadata": {},
     "output_type": "execute_result"
    }
   ],
   "source": [
    "a2=np.arange(8)\n",
    "a2#array splitting works only for the factor"
   ]
  },
  {
   "cell_type": "code",
   "execution_count": 58,
   "id": "bbd55e44-073e-4493-adac-ab0ac078d4a2",
   "metadata": {},
   "outputs": [
    {
     "data": {
      "text/plain": [
       "[array([0, 1, 2, 3]), array([4, 5, 6, 7])]"
      ]
     },
     "execution_count": 58,
     "metadata": {},
     "output_type": "execute_result"
    }
   ],
   "source": [
    "np.split(a2,2)"
   ]
  },
  {
   "cell_type": "code",
   "execution_count": 65,
   "id": "b8e8eed6-6ad5-4168-a232-620844357cf8",
   "metadata": {},
   "outputs": [
    {
     "data": {
      "text/plain": [
       "array([11.,  1.,  1.,  1.])"
      ]
     },
     "execution_count": 65,
     "metadata": {},
     "output_type": "execute_result"
    }
   ],
   "source": [
    "a11=a2/2\n",
    "a11"
   ]
  },
  {
   "cell_type": "code",
   "execution_count": 81,
   "id": "021832f9-c3be-4226-803f-73dcc16da92b",
   "metadata": {},
   "outputs": [
    {
     "data": {
      "text/plain": [
       "array([ 0,  1,  2,  3,  4,  5,  6,  7,  8,  9, 10, 11, 12, 13, 14, 15, 16,\n",
       "       17, 18, 19, 20, 21, 22, 23, 24, 25, 26, 27, 28, 29])"
      ]
     },
     "execution_count": 81,
     "metadata": {},
     "output_type": "execute_result"
    }
   ],
   "source": [
    "a2=np.arange(30)\n",
    "a2"
   ]
  },
  {
   "cell_type": "code",
   "execution_count": 83,
   "id": "7490271d-cea8-479c-b5c4-8ad9a3b4dd6c",
   "metadata": {},
   "outputs": [
    {
     "data": {
      "text/plain": [
       "[array([0, 1, 2, 3, 4, 5]),\n",
       " array([ 6,  7,  8,  9, 10, 11]),\n",
       " array([12, 13, 14, 15, 16, 17]),\n",
       " array([18, 19, 20, 21, 22, 23]),\n",
       " array([24, 25, 26, 27, 28, 29])]"
      ]
     },
     "execution_count": 83,
     "metadata": {},
     "output_type": "execute_result"
    }
   ],
   "source": [
    "np.split(a2,5)"
   ]
  },
  {
   "cell_type": "code",
   "execution_count": 84,
   "id": "7984f127-e223-4e0c-9637-5f453bebd194",
   "metadata": {},
   "outputs": [
    {
     "data": {
      "text/plain": [
       "array([11.  , 15.25, 19.5 , 23.75, 28.  , 32.25, 36.5 , 40.75, 45.  ])"
      ]
     },
     "execution_count": 84,
     "metadata": {},
     "output_type": "execute_result"
    }
   ],
   "source": [
    "np.linspace(11,45,9)"
   ]
  },
  {
   "cell_type": "code",
   "execution_count": 89,
   "id": "80ee40f1-ebf6-4dd3-8f1d-b13950c97b9d",
   "metadata": {},
   "outputs": [
    {
     "data": {
      "text/plain": [
       "array([10.        , 13.33333333, 16.66666667, 20.        ])"
      ]
     },
     "execution_count": 89,
     "metadata": {},
     "output_type": "execute_result"
    }
   ],
   "source": [
    "np.linspace(10,20,4)"
   ]
  },
  {
   "cell_type": "code",
   "execution_count": 91,
   "id": "8b0d222f-f225-412d-b243-ad60d9831262",
   "metadata": {},
   "outputs": [
    {
     "data": {
      "text/plain": [
       "array([ 0,  1,  2,  3,  4,  5,  6,  7,  8,  9, 10, 11, 12, 13, 14, 15, 16,\n",
       "       17, 18, 19, 20, 21, 22, 23, 24, 25, 26, 27, 28, 29, 30, 31, 32, 33,\n",
       "       34, 35, 36, 37, 38, 39])"
      ]
     },
     "execution_count": 91,
     "metadata": {},
     "output_type": "execute_result"
    }
   ],
   "source": [
    "a1=np.arange(40)\n",
    "a1"
   ]
  },
  {
   "cell_type": "code",
   "execution_count": 94,
   "id": "2871f42e-0db1-48b7-aca4-d3761e67a747",
   "metadata": {},
   "outputs": [
    {
     "data": {
      "text/plain": [
       "[array([0, 1, 2, 3, 4, 5, 6, 7]),\n",
       " array([ 8,  9, 10, 11, 12, 13, 14, 15]),\n",
       " array([16, 17, 18, 19, 20, 21, 22, 23]),\n",
       " array([24, 25, 26, 27, 28, 29, 30, 31]),\n",
       " array([32, 33, 34, 35, 36, 37, 38, 39])]"
      ]
     },
     "execution_count": 94,
     "metadata": {},
     "output_type": "execute_result"
    }
   ],
   "source": [
    "np.split(a1,5)"
   ]
  },
  {
   "cell_type": "code",
   "execution_count": 98,
   "id": "3fda4ac8-fba2-4f6c-aa7e-7f27ece23a93",
   "metadata": {},
   "outputs": [],
   "source": [
    "a1=np.array([1,2,3])\n",
    "a2=np.array([1,1,1])\n",
    "a3=np.array([2,2,2])"
   ]
  },
  {
   "cell_type": "code",
   "execution_count": 100,
   "id": "10d242a0-02cb-459b-a209-8330f2765744",
   "metadata": {},
   "outputs": [
    {
     "data": {
      "text/plain": [
       "array([1, 2, 3, 1, 1, 1, 2, 2, 2])"
      ]
     },
     "execution_count": 100,
     "metadata": {},
     "output_type": "execute_result"
    }
   ],
   "source": [
    "np.hstack([a1,a2,a3])"
   ]
  },
  {
   "cell_type": "code",
   "execution_count": 101,
   "id": "965c9542-0e23-4093-976a-3cab26aca1e3",
   "metadata": {},
   "outputs": [
    {
     "data": {
      "text/plain": [
       "array([[1, 2, 3],\n",
       "       [1, 1, 1],\n",
       "       [2, 2, 2]])"
      ]
     },
     "execution_count": 101,
     "metadata": {},
     "output_type": "execute_result"
    }
   ],
   "source": [
    "np.vstack([a1,a2,a3])"
   ]
  },
  {
   "cell_type": "code",
   "execution_count": null,
   "id": "fafc25c7-aec1-497a-814c-e7cb056aa24e",
   "metadata": {},
   "outputs": [],
   "source": []
  }
 ],
 "metadata": {
  "kernelspec": {
   "display_name": "Python 3 (ipykernel)",
   "language": "python",
   "name": "python3"
  },
  "language_info": {
   "codemirror_mode": {
    "name": "ipython",
    "version": 3
   },
   "file_extension": ".py",
   "mimetype": "text/x-python",
   "name": "python",
   "nbconvert_exporter": "python",
   "pygments_lexer": "ipython3",
   "version": "3.11.7"
  }
 },
 "nbformat": 4,
 "nbformat_minor": 5
}
