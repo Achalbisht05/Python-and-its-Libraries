{
 "cells": [
  {
   "cell_type": "code",
   "execution_count": 1,
   "id": "b7e948d7-d26d-46e5-a7d1-6d4873357b7e",
   "metadata": {},
   "outputs": [],
   "source": [
    "# creating the list"
   ]
  },
  {
   "cell_type": "code",
   "execution_count": 9,
   "id": "fdd278de-de97-4f69-a3d1-64a8625bab0e",
   "metadata": {},
   "outputs": [
    {
     "name": "stdout",
     "output_type": "stream",
     "text": [
      "Orginal list: [1, 2, 3, 4, 5]\n"
     ]
    }
   ],
   "source": [
    "l1=[1,2,3,4,5]\n",
    "print(\"Orginal list:\",l1)"
   ]
  },
  {
   "cell_type": "code",
   "execution_count": 10,
   "id": "721236d1-93e8-43f9-a476-ddab02f19f59",
   "metadata": {},
   "outputs": [],
   "source": [
    "# adding element to the lists"
   ]
  },
  {
   "cell_type": "code",
   "execution_count": 11,
   "id": "73835f28-35c7-4e43-8b07-82edf85cf3d5",
   "metadata": {},
   "outputs": [
    {
     "name": "stdout",
     "output_type": "stream",
     "text": [
      "List after adding new element: [1, 2, 3, 4, 5, 6]\n"
     ]
    }
   ],
   "source": [
    "l1.append(6)\n",
    "print(\"List after adding new element:\",l1)"
   ]
  },
  {
   "cell_type": "code",
   "execution_count": 12,
   "id": "6ceb358a-01b6-4d42-b696-8bd5c9c248a3",
   "metadata": {},
   "outputs": [],
   "source": [
    "# removing the element from the list"
   ]
  },
  {
   "cell_type": "code",
   "execution_count": 13,
   "id": "cc3a72e2-73bd-4ad0-94f0-487e5fd23d43",
   "metadata": {},
   "outputs": [
    {
     "name": "stdout",
     "output_type": "stream",
     "text": [
      "List after removing the element: [1, 2, 4, 5, 6]\n"
     ]
    }
   ],
   "source": [
    "l1.remove(3)\n",
    "print(\"List after removing the element:\",l1)"
   ]
  },
  {
   "cell_type": "code",
   "execution_count": 16,
   "id": "3f13109a-44d8-40ba-a76c-ba2668826b74",
   "metadata": {},
   "outputs": [],
   "source": [
    "# accesing? indexing the elemtent in the list"
   ]
  },
  {
   "cell_type": "code",
   "execution_count": 17,
   "id": "1dd5e266-6cf1-41a4-8d36-ff1da7397c8a",
   "metadata": {},
   "outputs": [
    {
     "name": "stdout",
     "output_type": "stream",
     "text": [
      "Accessing the first element in the list: 1\n",
      "Accessing the second element in the list: 2\n",
      "Accessing the third element in the list: 4\n",
      "Accessing the last element in the list: 6\n"
     ]
    }
   ],
   "source": [
    "print(\"Accessing the first element in the list:\",l1[0])\n",
    "print(\"Accessing the second element in the list:\",l1[1])\n",
    "print(\"Accessing the third element in the list:\",l1[2])\n",
    "print(\"Accessing the last element in the list:\",l1[-1])\n",
    "\n"
   ]
  },
  {
   "cell_type": "code",
   "execution_count": 14,
   "id": "b95d4da3-47eb-43cc-9dc4-daa864c51ef9",
   "metadata": {},
   "outputs": [
    {
     "data": {
      "text/plain": [
       "[1, 4, 5, 57, 68]"
      ]
     },
     "execution_count": 14,
     "metadata": {},
     "output_type": "execute_result"
    }
   ],
   "source": [
    "list1 = [1,4,5,57,68] #mutable\n",
    "list1"
   ]
  },
  {
   "cell_type": "code",
   "execution_count": null,
   "id": "d226c47d-a5f2-4794-b95b-f4f7a7c176f5",
   "metadata": {},
   "outputs": [],
   "source": []
  },
  {
   "cell_type": "code",
   "execution_count": null,
   "id": "0c0e6c86-898c-4a35-b96f-88fb7aecb641",
   "metadata": {},
   "outputs": [],
   "source": []
  },
  {
   "cell_type": "code",
   "execution_count": 15,
   "id": "8425015a-8971-43f7-b598-f27009becbaa",
   "metadata": {},
   "outputs": [],
   "source": [
    "# create the dictonary"
   ]
  },
  {
   "cell_type": "code",
   "execution_count": 16,
   "id": "2184a16c-3e9e-47df-b28f-6a3ec815e626",
   "metadata": {},
   "outputs": [],
   "source": [
    "dict1={\n",
    "    1:\"achal\",\n",
    "    2:\"bisht\",\n",
    "    3:\"hell\"}"
   ]
  },
  {
   "cell_type": "code",
   "execution_count": 17,
   "id": "f3482f92-cd63-4a55-b737-f26d1b436343",
   "metadata": {},
   "outputs": [
    {
     "data": {
      "text/plain": [
       "dict_keys([1, 2, 3])"
      ]
     },
     "execution_count": 17,
     "metadata": {},
     "output_type": "execute_result"
    }
   ],
   "source": [
    "dict1.keys()"
   ]
  },
  {
   "cell_type": "code",
   "execution_count": 18,
   "id": "d2918f82-eaa5-4052-acfb-73389ff97201",
   "metadata": {},
   "outputs": [
    {
     "data": {
      "text/plain": [
       "dict_values(['achal', 'bisht', 'hell'])"
      ]
     },
     "execution_count": 18,
     "metadata": {},
     "output_type": "execute_result"
    }
   ],
   "source": [
    "dict1.values()"
   ]
  },
  {
   "cell_type": "code",
   "execution_count": 19,
   "id": "7bf84e77-a30f-48fe-8eb9-4892ac1c8d42",
   "metadata": {},
   "outputs": [
    {
     "name": "stdout",
     "output_type": "stream",
     "text": [
      "1\n",
      "2\n",
      "3\n",
      "4\n",
      "achal\n",
      "5\n"
     ]
    }
   ],
   "source": [
    "l=[1,2,3,4,\"achal\",5]\n",
    "for i in l:\n",
    "    print(i)"
   ]
  },
  {
   "cell_type": "code",
   "execution_count": 20,
   "id": "f091d8c9-5cfe-4ce5-8636-1dd8bd132eeb",
   "metadata": {},
   "outputs": [
    {
     "name": "stdout",
     "output_type": "stream",
     "text": [
      "2\n",
      "4\n",
      "6\n"
     ]
    }
   ],
   "source": [
    "l=[1,2,3,4,5,6]\n",
    "for i in l:\n",
    "     if i%2==0:\n",
    "         print(i)"
   ]
  },
  {
   "cell_type": "code",
   "execution_count": 22,
   "id": "edcd4486-bc56-4b63-b676-91b65163c567",
   "metadata": {},
   "outputs": [
    {
     "data": {
      "text/plain": [
       "3"
      ]
     },
     "execution_count": 22,
     "metadata": {},
     "output_type": "execute_result"
    }
   ],
   "source": [
    "l[2]"
   ]
  },
  {
   "cell_type": "code",
   "execution_count": 23,
   "id": "40f174a9-f08c-40a1-9bc8-1053df9977a6",
   "metadata": {},
   "outputs": [
    {
     "name": "stdout",
     "output_type": "stream",
     "text": [
      "1\n",
      "3\n",
      "5\n"
     ]
    }
   ],
   "source": [
    "l=[1,2,3,4,5,6]\n",
    "for i in range(6):\n",
    "     if l[i]%2==0:\n",
    "         print(i)"
   ]
  },
  {
   "cell_type": "code",
   "execution_count": 24,
   "id": "e9e91af5-f315-4fe7-bf75-8df138bd11f9",
   "metadata": {},
   "outputs": [
    {
     "name": "stdout",
     "output_type": "stream",
     "text": [
      "0\n",
      "2\n",
      "4\n"
     ]
    }
   ],
   "source": [
    "l=[1,2,3,4,5,6]\n",
    "for i in range(6):\n",
    "     if i%2==0:\n",
    "         print(i)\n",
    "#index value print we will use range func "
   ]
  },
  {
   "cell_type": "code",
   "execution_count": 27,
   "id": "261cabf8-060a-469a-bfab-9d891aeb21c2",
   "metadata": {},
   "outputs": [
    {
     "name": "stdout",
     "output_type": "stream",
     "text": [
      "Original dictionary: {'name': 'achal', 'age': 20, 'roll no': 3, 'class': 'Btech CDS'}\n"
     ]
    }
   ],
   "source": [
    "dict1={\"name\":\"achal\",\"age\":20,\"roll no\":3,\"class\":\"Btech CDS\"}\n",
    "print(\"Original dictionary:\",dict1)"
   ]
  },
  {
   "cell_type": "code",
   "execution_count": 28,
   "id": "4f8c1b34-2888-4ffb-8ca3-ad379acffe68",
   "metadata": {},
   "outputs": [],
   "source": [
    "# adding the value in dict"
   ]
  },
  {
   "cell_type": "code",
   "execution_count": 29,
   "id": "8d2f99e3-4181-4da5-9d80-2882ed6dd3c3",
   "metadata": {},
   "outputs": [
    {
     "name": "stdout",
     "output_type": "stream",
     "text": [
      "After Adding the key-value: {'name': 'achal', 'age': 20, 'roll no': 3, 'class': 'Btech CDS', 'branch': 'datascience'}\n"
     ]
    }
   ],
   "source": [
    "dict1[\"branch\"]=\"datascience\"\n",
    "print(\"After Adding the key-value:\",dict1)"
   ]
  },
  {
   "cell_type": "code",
   "execution_count": 30,
   "id": "5625d8fd-508e-4366-8369-3074df6577fb",
   "metadata": {},
   "outputs": [],
   "source": [
    "#removing the element in dict"
   ]
  },
  {
   "cell_type": "code",
   "execution_count": 31,
   "id": "bdb831e2-618c-4532-a9b8-50c2063a635d",
   "metadata": {},
   "outputs": [
    {
     "name": "stdout",
     "output_type": "stream",
     "text": [
      "The dictinary after removing the element: {'name': 'achal', 'age': 20, 'class': 'Btech CDS', 'branch': 'datascience'}\n"
     ]
    }
   ],
   "source": [
    "del dict1[\"roll no\"]\n",
    "print(\"The dictinary after removing the element:\",dict1)"
   ]
  },
  {
   "cell_type": "code",
   "execution_count": 32,
   "id": "e393a14e-1699-4fb5-9154-6a64167680de",
   "metadata": {},
   "outputs": [],
   "source": [
    "# accessing the dict"
   ]
  },
  {
   "cell_type": "code",
   "execution_count": 35,
   "id": "a3ccba2c-ad0a-4ec7-9a14-b3f763d30ac1",
   "metadata": {},
   "outputs": [
    {
     "name": "stdout",
     "output_type": "stream",
     "text": [
      "Accessing the value: Btech CDS\n"
     ]
    }
   ],
   "source": [
    "print(\"Accessing the value:\",dict1[\"class\"])"
   ]
  },
  {
   "cell_type": "code",
   "execution_count": 26,
   "id": "ae35b8a9-c612-413c-9719-73e6971b5e86",
   "metadata": {},
   "outputs": [],
   "source": [
    "# sets"
   ]
  },
  {
   "cell_type": "code",
   "execution_count": 25,
   "id": "65c7dc1a-2ae1-4d61-b321-d33ebd51cee8",
   "metadata": {},
   "outputs": [
    {
     "data": {
      "text/plain": [
       "{1, 2, 3, 4, 5}"
      ]
     },
     "execution_count": 25,
     "metadata": {},
     "output_type": "execute_result"
    }
   ],
   "source": [
    "s={1,2,3,4,5}\n",
    "s"
   ]
  },
  {
   "cell_type": "code",
   "execution_count": null,
   "id": "ae8e46b1-fa15-4ed4-9927-d6635d17958a",
   "metadata": {},
   "outputs": [],
   "source": [
    "# adding value to set"
   ]
  },
  {
   "cell_type": "code",
   "execution_count": 48,
   "id": "ccaca562-a579-401f-9848-2c744031fc28",
   "metadata": {},
   "outputs": [
    {
     "name": "stdout",
     "output_type": "stream",
     "text": [
      "The value after adding element in the set: {1, 2, 3, 4, 5, 7}\n"
     ]
    }
   ],
   "source": [
    "set1={1,2,3,4,5}\n",
    "set1.add(7)\n",
    "print(\"The value after adding element in the set:\",set1)"
   ]
  },
  {
   "cell_type": "code",
   "execution_count": null,
   "id": "72fd9585-7cad-460f-a456-e7c1e1a138e5",
   "metadata": {},
   "outputs": [],
   "source": [
    "# removing element in set"
   ]
  },
  {
   "cell_type": "code",
   "execution_count": 49,
   "id": "03d25632-8881-46e8-bc96-f799bcc7042a",
   "metadata": {},
   "outputs": [
    {
     "name": "stdout",
     "output_type": "stream",
     "text": [
      "The set after removing the element: {1, 2, 3, 5, 7}\n"
     ]
    }
   ],
   "source": [
    "set1.remove(4)\n",
    "print(\"The set after removing the element:\",set1)"
   ]
  },
  {
   "cell_type": "code",
   "execution_count": 50,
   "id": "1881ff03-5cbc-4a12-830a-e749b78005b9",
   "metadata": {},
   "outputs": [],
   "source": [
    "#membership"
   ]
  },
  {
   "cell_type": "code",
   "execution_count": 51,
   "id": "6756c3fe-9647-4e73-a7d8-b5c32e7cf970",
   "metadata": {},
   "outputs": [
    {
     "name": "stdout",
     "output_type": "stream",
     "text": [
      "the element is present in the set or not: False\n"
     ]
    }
   ],
   "source": [
    "print(\"the element is present in the set or not:\",4 in set1)"
   ]
  },
  {
   "cell_type": "code",
   "execution_count": 52,
   "id": "003862d1-5e4c-4add-8124-678d2801d6a1",
   "metadata": {},
   "outputs": [
    {
     "name": "stdout",
     "output_type": "stream",
     "text": [
      "the element is present in the set or not: False\n"
     ]
    }
   ],
   "source": [
    "print(\"the element is present in the set or not:\",6 in set1)"
   ]
  },
  {
   "cell_type": "code",
   "execution_count": 53,
   "id": "2ba7e798-3aed-4009-8742-b716c549874d",
   "metadata": {
    "scrolled": true
   },
   "outputs": [
    {
     "name": "stdout",
     "output_type": "stream",
     "text": [
      "the element is present in the set or not: True\n"
     ]
    }
   ],
   "source": [
    "print(\"the element is present in the set or not:\",7 in set1)"
   ]
  },
  {
   "cell_type": "code",
   "execution_count": 28,
   "id": "9af0795b-e9af-40dd-b04b-4e0292a56ec1",
   "metadata": {},
   "outputs": [
    {
     "data": {
      "text/plain": [
       "{1, 4, 5, 57, 68}"
      ]
     },
     "execution_count": 28,
     "metadata": {},
     "output_type": "execute_result"
    }
   ],
   "source": [
    "myset = set(list1)\n",
    "myset"
   ]
  },
  {
   "cell_type": "code",
   "execution_count": 30,
   "id": "41303405-1592-440a-8e00-b89d145b8a3e",
   "metadata": {},
   "outputs": [
    {
     "data": {
      "text/plain": [
       "{1, 5, 64, 84}"
      ]
     },
     "execution_count": 30,
     "metadata": {},
     "output_type": "execute_result"
    }
   ],
   "source": [
    "myset2 = set(tup)\n",
    "myset2 "
   ]
  },
  {
   "cell_type": "code",
   "execution_count": 31,
   "id": "ff6cddd8-dfb2-4b2e-9639-7bfa6f285600",
   "metadata": {},
   "outputs": [
    {
     "data": {
      "text/plain": [
       "{1, 4, 5, 57, 64, 68, 84}"
      ]
     },
     "execution_count": 31,
     "metadata": {},
     "output_type": "execute_result"
    }
   ],
   "source": [
    "myset.union(myset2)"
   ]
  },
  {
   "cell_type": "code",
   "execution_count": 32,
   "id": "4f5795e9-3e9e-4fd4-b977-e3bb7b744107",
   "metadata": {},
   "outputs": [
    {
     "data": {
      "text/plain": [
       "{1, 5}"
      ]
     },
     "execution_count": 32,
     "metadata": {},
     "output_type": "execute_result"
    }
   ],
   "source": [
    "myset.intersection(myset2)"
   ]
  },
  {
   "cell_type": "code",
   "execution_count": 33,
   "id": "3e146526-f35a-4b46-b8ac-b8cef9a65a53",
   "metadata": {},
   "outputs": [
    {
     "data": {
      "text/plain": [
       "{4, 57, 68}"
      ]
     },
     "execution_count": 33,
     "metadata": {},
     "output_type": "execute_result"
    }
   ],
   "source": [
    "myset.difference(myset2)"
   ]
  },
  {
   "cell_type": "code",
   "execution_count": 54,
   "id": "046533f9-a615-408a-9dbc-c8e707902240",
   "metadata": {},
   "outputs": [],
   "source": [
    "# tuple"
   ]
  },
  {
   "cell_type": "code",
   "execution_count": 27,
   "id": "e67b452b-12d2-46a0-9d4b-3ae89a225cfc",
   "metadata": {},
   "outputs": [
    {
     "data": {
      "text/plain": [
       "(1, 5, 64, 84)"
      ]
     },
     "execution_count": 27,
     "metadata": {},
     "output_type": "execute_result"
    }
   ],
   "source": [
    "tup = 1,5,64,84 #immutable\n",
    "tup"
   ]
  },
  {
   "cell_type": "code",
   "execution_count": 55,
   "id": "2d9daaab-ee3f-4bcf-a544-b5f5c3d8deef",
   "metadata": {},
   "outputs": [
    {
     "data": {
      "text/plain": [
       "(1, 2, 3, 4, 5, 4, 6)"
      ]
     },
     "execution_count": 55,
     "metadata": {},
     "output_type": "execute_result"
    }
   ],
   "source": [
    "tup1=(1,2,3,4,5,4,6)\n",
    "tup1"
   ]
  },
  {
   "cell_type": "code",
   "execution_count": 56,
   "id": "df12e332-3964-4ea5-965a-c27ed7d911b8",
   "metadata": {},
   "outputs": [],
   "source": [
    "# we cannot add aur remove value in tuple"
   ]
  },
  {
   "cell_type": "code",
   "execution_count": 59,
   "id": "4bc990a4-34d2-456d-bca5-0d411efef185",
   "metadata": {},
   "outputs": [],
   "source": [
    "# accessing the value in the tuple"
   ]
  },
  {
   "cell_type": "code",
   "execution_count": 60,
   "id": "9ccbb35f-9084-4f72-9cd1-632584f0b5fe",
   "metadata": {},
   "outputs": [
    {
     "name": "stdout",
     "output_type": "stream",
     "text": [
      "Accessing the value in the tuple: 4\n"
     ]
    }
   ],
   "source": [
    "print(\"Accessing the value in the tuple:\",tup1[3])"
   ]
  },
  {
   "cell_type": "code",
   "execution_count": 61,
   "id": "f4442b09-55c6-4893-a3b6-a2184d8a5c26",
   "metadata": {},
   "outputs": [
    {
     "name": "stdout",
     "output_type": "stream",
     "text": [
      "Accessing the value in the tuple: 6\n"
     ]
    }
   ],
   "source": [
    "print(\"Accessing the value in the tuple:\",tup1[-1])"
   ]
  }
 ],
 "metadata": {
  "kernelspec": {
   "display_name": "Python 3 (ipykernel)",
   "language": "python",
   "name": "python3"
  },
  "language_info": {
   "codemirror_mode": {
    "name": "ipython",
    "version": 3
   },
   "file_extension": ".py",
   "mimetype": "text/x-python",
   "name": "python",
   "nbconvert_exporter": "python",
   "pygments_lexer": "ipython3",
   "version": "3.11.7"
  }
 },
 "nbformat": 4,
 "nbformat_minor": 5
}
