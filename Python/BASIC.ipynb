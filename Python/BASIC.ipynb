{
 "cells": [
  {
   "cell_type": "code",
   "execution_count": 3,
   "id": "c790c39e-e013-4f68-b4b8-adb02ea177d2",
   "metadata": {},
   "outputs": [
    {
     "name": "stdout",
     "output_type": "stream",
     "text": [
      "Hello\n"
     ]
    }
   ],
   "source": [
    "print(\"Hello\")"
   ]
  },
  {
   "cell_type": "code",
   "execution_count": 4,
   "id": "114a8b7b-4436-4da5-96a0-3e4f837d2d90",
   "metadata": {},
   "outputs": [
    {
     "name": "stdout",
     "output_type": "stream",
     "text": [
      "Hello\n"
     ]
    }
   ],
   "source": [
    "print('Hello')"
   ]
  },
  {
   "cell_type": "markdown",
   "id": "1d708f9b-b9d1-473d-b0e1-c13cd06e93ba",
   "metadata": {},
   "source": [
    "# Variables"
   ]
  },
  {
   "cell_type": "code",
   "execution_count": 1,
   "id": "7b9a2fe8-0c58-480d-8c3d-8561c3f36dea",
   "metadata": {},
   "outputs": [],
   "source": [
    "name=\"Achal\""
   ]
  },
  {
   "cell_type": "code",
   "execution_count": 2,
   "id": "e35d6292-dfc5-4475-b305-b4d91c975eda",
   "metadata": {},
   "outputs": [
    {
     "name": "stdout",
     "output_type": "stream",
     "text": [
      "Achal\n"
     ]
    }
   ],
   "source": [
    "print(name)"
   ]
  },
  {
   "cell_type": "code",
   "execution_count": 3,
   "id": "fabbf36f-152a-4515-b508-21591046e13b",
   "metadata": {},
   "outputs": [],
   "source": [
    "a=10"
   ]
  },
  {
   "cell_type": "code",
   "execution_count": 7,
   "id": "9b0ec66d-313a-4ccb-8f8f-0c15e421d8f7",
   "metadata": {},
   "outputs": [
    {
     "data": {
      "text/plain": [
       "int"
      ]
     },
     "execution_count": 7,
     "metadata": {},
     "output_type": "execute_result"
    }
   ],
   "source": [
    "type(a)"
   ]
  },
  {
   "cell_type": "code",
   "execution_count": 4,
   "id": "c108f6b3-e427-48c3-b93c-aaf694659a7a",
   "metadata": {},
   "outputs": [],
   "source": [
    "b=10.9"
   ]
  },
  {
   "cell_type": "code",
   "execution_count": 8,
   "id": "3abf770a-9949-4b50-b6ba-8c67977fb65c",
   "metadata": {},
   "outputs": [
    {
     "data": {
      "text/plain": [
       "float"
      ]
     },
     "execution_count": 8,
     "metadata": {},
     "output_type": "execute_result"
    }
   ],
   "source": [
    "type(b)"
   ]
  },
  {
   "cell_type": "code",
   "execution_count": 9,
   "id": "7c47b940-fca6-4c35-921d-6b62cf27cc2e",
   "metadata": {},
   "outputs": [],
   "source": [
    "c='achal'"
   ]
  },
  {
   "cell_type": "code",
   "execution_count": 10,
   "id": "9700a705-fd16-46ba-9dd0-33eecccfc3c5",
   "metadata": {},
   "outputs": [
    {
     "data": {
      "text/plain": [
       "str"
      ]
     },
     "execution_count": 10,
     "metadata": {},
     "output_type": "execute_result"
    }
   ],
   "source": [
    "type(c)"
   ]
  },
  {
   "cell_type": "code",
   "execution_count": 11,
   "id": "18583ac5-96e9-477b-aa32-13305b5efb81",
   "metadata": {},
   "outputs": [],
   "source": [
    "d='a'"
   ]
  },
  {
   "cell_type": "code",
   "execution_count": 12,
   "id": "25d4b200-1691-4e73-bb5a-7affb70908fd",
   "metadata": {},
   "outputs": [
    {
     "data": {
      "text/plain": [
       "str"
      ]
     },
     "execution_count": 12,
     "metadata": {},
     "output_type": "execute_result"
    }
   ],
   "source": [
    "type(d)"
   ]
  },
  {
   "cell_type": "code",
   "execution_count": 13,
   "id": "feeda39b-0dac-4c04-9e44-5c584a7b8c46",
   "metadata": {},
   "outputs": [],
   "source": [
    "e= True"
   ]
  },
  {
   "cell_type": "code",
   "execution_count": 14,
   "id": "5a06a748-411a-4256-8d6c-0a8b8fb2404f",
   "metadata": {},
   "outputs": [
    {
     "data": {
      "text/plain": [
       "bool"
      ]
     },
     "execution_count": 14,
     "metadata": {},
     "output_type": "execute_result"
    }
   ],
   "source": [
    "type(e)"
   ]
  },
  {
   "cell_type": "markdown",
   "id": "22e35133-c4a4-4d98-b12a-cd6ef2a6f269",
   "metadata": {},
   "source": [
    "# Inputs"
   ]
  },
  {
   "cell_type": "code",
   "execution_count": 15,
   "id": "3411eb94-8cbb-4d60-a9fa-54b3c28150d0",
   "metadata": {},
   "outputs": [
    {
     "name": "stdin",
     "output_type": "stream",
     "text": [
      "Enter the name: Achal Bisht\n"
     ]
    }
   ],
   "source": [
    "name = input(\"Enter the name:\")"
   ]
  },
  {
   "cell_type": "code",
   "execution_count": 16,
   "id": "b0cbefd7-b949-46f4-a741-78763d0ad6d0",
   "metadata": {},
   "outputs": [
    {
     "name": "stdin",
     "output_type": "stream",
     "text": [
      "Enter the Number 15\n"
     ]
    }
   ],
   "source": [
    "age = int(input(\"Enter the Number\"))"
   ]
  },
  {
   "cell_type": "code",
   "execution_count": 17,
   "id": "abf97037-b9cc-4293-9703-0bd3ad9c1e2e",
   "metadata": {},
   "outputs": [
    {
     "name": "stdin",
     "output_type": "stream",
     "text": [
      "Enter the price 2.3\n"
     ]
    }
   ],
   "source": [
    "price=float(input(\"Enter the price\"))"
   ]
  },
  {
   "cell_type": "markdown",
   "id": "510b1828-a98c-4dc6-8b45-17b8ee494599",
   "metadata": {},
   "source": [
    "# Operation"
   ]
  },
  {
   "cell_type": "markdown",
   "id": "d42df556-7886-443d-b457-0205fffeae9c",
   "metadata": {},
   "source": [
    "arithmetic operation - It do arithmetic calculation between variables."
   ]
  },
  {
   "cell_type": "code",
   "execution_count": 2,
   "id": "03fd2c9d-d3d5-419a-9697-acbaaaef1e38",
   "metadata": {},
   "outputs": [],
   "source": [
    "a=10"
   ]
  },
  {
   "cell_type": "code",
   "execution_count": 3,
   "id": "e26d7b2c-f3f3-48e2-9b6e-f8d631967443",
   "metadata": {},
   "outputs": [],
   "source": [
    "b=30"
   ]
  },
  {
   "cell_type": "code",
   "execution_count": 4,
   "id": "6e965b34-ba1a-4ab1-8598-00ed47ff9d63",
   "metadata": {},
   "outputs": [
    {
     "data": {
      "text/plain": [
       "40"
      ]
     },
     "execution_count": 4,
     "metadata": {},
     "output_type": "execute_result"
    }
   ],
   "source": [
    "a+b"
   ]
  },
  {
   "cell_type": "code",
   "execution_count": 5,
   "id": "2f780ac8-eb56-4d0d-9f81-3279688e7b69",
   "metadata": {},
   "outputs": [
    {
     "data": {
      "text/plain": [
       "-20"
      ]
     },
     "execution_count": 5,
     "metadata": {},
     "output_type": "execute_result"
    }
   ],
   "source": [
    "a-b"
   ]
  },
  {
   "cell_type": "code",
   "execution_count": 6,
   "id": "1dde30f5-d9d6-44f3-9ae8-556c91dc6c64",
   "metadata": {},
   "outputs": [
    {
     "data": {
      "text/plain": [
       "300"
      ]
     },
     "execution_count": 6,
     "metadata": {},
     "output_type": "execute_result"
    }
   ],
   "source": [
    "a*b"
   ]
  },
  {
   "cell_type": "code",
   "execution_count": 7,
   "id": "4d377b2b-7098-4891-998c-069e785e9b28",
   "metadata": {},
   "outputs": [
    {
     "data": {
      "text/plain": [
       "0.3333333333333333"
      ]
     },
     "execution_count": 7,
     "metadata": {},
     "output_type": "execute_result"
    }
   ],
   "source": [
    "a/b #division "
   ]
  },
  {
   "cell_type": "code",
   "execution_count": 8,
   "id": "8c1215cb-668b-4cb4-a933-4f01e5095dc8",
   "metadata": {},
   "outputs": [
    {
     "data": {
      "text/plain": [
       "0"
      ]
     },
     "execution_count": 8,
     "metadata": {},
     "output_type": "execute_result"
    }
   ],
   "source": [
    "a//b"
   ]
  },
  {
   "cell_type": "code",
   "execution_count": 9,
   "id": "f3405148-4bcb-480c-a46e-efd3ab21e484",
   "metadata": {},
   "outputs": [
    {
     "data": {
      "text/plain": [
       "1000000000000000000000000000000"
      ]
     },
     "execution_count": 9,
     "metadata": {},
     "output_type": "execute_result"
    }
   ],
   "source": [
    "a**b"
   ]
  },
  {
   "cell_type": "code",
   "execution_count": 10,
   "id": "32e7d494-90f8-4ca5-898f-79b597d72cd9",
   "metadata": {},
   "outputs": [
    {
     "data": {
      "text/plain": [
       "10"
      ]
     },
     "execution_count": 10,
     "metadata": {},
     "output_type": "execute_result"
    }
   ],
   "source": [
    "a%b"
   ]
  },
  {
   "cell_type": "code",
   "execution_count": 11,
   "id": "675508a4-1a53-472b-877e-76bd70c859fc",
   "metadata": {},
   "outputs": [
    {
     "data": {
      "text/plain": [
       "19"
      ]
     },
     "execution_count": 11,
     "metadata": {},
     "output_type": "execute_result"
    }
   ],
   "source": [
    "((4*5)+5-6)"
   ]
  },
  {
   "cell_type": "markdown",
   "id": "7d0d4f0e-2ded-444a-88fe-23bef39e5a4d",
   "metadata": {},
   "source": [
    "relation operation - it tell about the relation between variables"
   ]
  },
  {
   "cell_type": "code",
   "execution_count": 13,
   "id": "47934197-3e12-4c6b-9e0a-efb68664a47f",
   "metadata": {},
   "outputs": [],
   "source": [
    "a=50"
   ]
  },
  {
   "cell_type": "code",
   "execution_count": 14,
   "id": "3b572ccb-657f-4036-ab9f-ff61f8fd065d",
   "metadata": {},
   "outputs": [],
   "source": [
    "b=20"
   ]
  },
  {
   "cell_type": "code",
   "execution_count": 15,
   "id": "4da6cbb8-c3ea-4aa6-8d9e-9f4a170084d4",
   "metadata": {},
   "outputs": [
    {
     "name": "stdout",
     "output_type": "stream",
     "text": [
      "False\n"
     ]
    }
   ],
   "source": [
    "print(a==b)"
   ]
  },
  {
   "cell_type": "code",
   "execution_count": 17,
   "id": "7b62cb66-4635-4a61-b965-6508c23d5c5f",
   "metadata": {},
   "outputs": [
    {
     "name": "stdout",
     "output_type": "stream",
     "text": [
      "True\n"
     ]
    }
   ],
   "source": [
    "print(a!=b)"
   ]
  },
  {
   "cell_type": "code",
   "execution_count": 18,
   "id": "c7031fc3-dc20-4eb2-a5e1-08d017dc2c94",
   "metadata": {},
   "outputs": [
    {
     "name": "stdout",
     "output_type": "stream",
     "text": [
      "True\n"
     ]
    }
   ],
   "source": [
    "print(a>=b)"
   ]
  },
  {
   "cell_type": "code",
   "execution_count": 20,
   "id": "7dd7561e-88f7-49af-81c5-bbba28c6f0c1",
   "metadata": {},
   "outputs": [
    {
     "name": "stdout",
     "output_type": "stream",
     "text": [
      "False\n"
     ]
    }
   ],
   "source": [
    "print(a<=b)"
   ]
  },
  {
   "cell_type": "code",
   "execution_count": 21,
   "id": "3c7f8559-b1d9-45ca-963d-885b552e8973",
   "metadata": {},
   "outputs": [
    {
     "name": "stdout",
     "output_type": "stream",
     "text": [
      "True\n"
     ]
    }
   ],
   "source": [
    "print(a>b)"
   ]
  },
  {
   "cell_type": "code",
   "execution_count": 22,
   "id": "24c37405-02c0-4f90-9026-b95eab06754a",
   "metadata": {},
   "outputs": [
    {
     "name": "stdout",
     "output_type": "stream",
     "text": [
      "False\n"
     ]
    }
   ],
   "source": [
    "print(a<b)"
   ]
  },
  {
   "cell_type": "code",
   "execution_count": null,
   "id": "04c582f5-b9eb-48c9-8b84-3eda89fb35cc",
   "metadata": {},
   "outputs": [],
   "source": [
    "assignment operator = It assign the values to different variables."
   ]
  },
  {
   "cell_type": "code",
   "execution_count": 39,
   "id": "6d179f4d-1999-4679-ad67-17233de8c9ce",
   "metadata": {},
   "outputs": [],
   "source": [
    "num = 10"
   ]
  },
  {
   "cell_type": "code",
   "execution_count": 40,
   "id": "02809985-0eaa-48a2-9e90-88510474f277",
   "metadata": {},
   "outputs": [
    {
     "data": {
      "text/plain": [
       "20"
      ]
     },
     "execution_count": 40,
     "metadata": {},
     "output_type": "execute_result"
    }
   ],
   "source": [
    "num +=10\n",
    "num"
   ]
  },
  {
   "cell_type": "code",
   "execution_count": 41,
   "id": "eedc3fb7-d013-4d6c-9ced-e00d11774340",
   "metadata": {},
   "outputs": [
    {
     "data": {
      "text/plain": [
       "100"
      ]
     },
     "execution_count": 41,
     "metadata": {},
     "output_type": "execute_result"
    }
   ],
   "source": [
    "num *= 5\n",
    "num"
   ]
  },
  {
   "cell_type": "code",
   "execution_count": 42,
   "id": "362b89a2-68c0-4f1c-8111-55f0fb6e4705",
   "metadata": {},
   "outputs": [
    {
     "data": {
      "text/plain": [
       "20.0"
      ]
     },
     "execution_count": 42,
     "metadata": {},
     "output_type": "execute_result"
    }
   ],
   "source": [
    "num /= 5\n",
    "num"
   ]
  },
  {
   "cell_type": "code",
   "execution_count": 43,
   "id": "19d668ea-61c8-4ecb-bbda-6782d020740e",
   "metadata": {},
   "outputs": [
    {
     "data": {
      "text/plain": [
       "0.0"
      ]
     },
     "execution_count": 43,
     "metadata": {},
     "output_type": "execute_result"
    }
   ],
   "source": [
    "num %= 5\n",
    "num"
   ]
  },
  {
   "cell_type": "markdown",
   "id": "7658dd3b-c195-4b52-b0e3-0c1201cf8c51",
   "metadata": {},
   "source": [
    "# Conversion"
   ]
  },
  {
   "cell_type": "code",
   "execution_count": 46,
   "id": "0375a410-eb79-4b88-ab09-b685353e7904",
   "metadata": {},
   "outputs": [
    {
     "name": "stdout",
     "output_type": "stream",
     "text": [
      "6.25\n"
     ]
    }
   ],
   "source": [
    "a=2 #int\n",
    "b=4.25 #float\n",
    "sum = a+b\n",
    "print(sum)"
   ]
  },
  {
   "cell_type": "markdown",
   "id": "db4628af-927f-4bf0-8c0f-5f8add724b4b",
   "metadata": {},
   "source": [
    "# Casting"
   ]
  },
  {
   "cell_type": "code",
   "execution_count": 47,
   "id": "29f3f0cf-0c1a-4291-bef3-93e7f11ea634",
   "metadata": {},
   "outputs": [
    {
     "name": "stdout",
     "output_type": "stream",
     "text": [
      "6.25\n"
     ]
    }
   ],
   "source": [
    "a=int(\"2\")\n",
    "b=4.25\n",
    "print(a+b)"
   ]
  },
  {
   "cell_type": "code",
   "execution_count": 49,
   "id": "11ac5fbc-6233-4d0e-8cd3-6e89af310c6f",
   "metadata": {},
   "outputs": [
    {
     "data": {
      "text/plain": [
       "str"
      ]
     },
     "execution_count": 49,
     "metadata": {},
     "output_type": "execute_result"
    }
   ],
   "source": [
    "x=3.14 #float\n",
    "x=str(x) #float converting into string\n",
    "type(x)"
   ]
  },
  {
   "cell_type": "markdown",
   "id": "6be0af89-6bf0-4120-93c0-d6bcb8817b21",
   "metadata": {},
   "source": [
    "# string operation"
   ]
  },
  {
   "cell_type": "code",
   "execution_count": 22,
   "id": "f6df4a36-4208-4dc8-ac5e-85f95d4dfba4",
   "metadata": {},
   "outputs": [],
   "source": [
    "text=\"text is a text string\""
   ]
  },
  {
   "cell_type": "code",
   "execution_count": 25,
   "id": "a3b2d9d8-064a-4fbe-b2db-d53a570ced6d",
   "metadata": {},
   "outputs": [
    {
     "data": {
      "text/plain": [
       "'x'"
      ]
     },
     "execution_count": 25,
     "metadata": {},
     "output_type": "execute_result"
    }
   ],
   "source": [
    "text[2]#indexing"
   ]
  },
  {
   "cell_type": "code",
   "execution_count": 26,
   "id": "9ffb4d4d-c6c5-4d47-851e-9e8effc32c2b",
   "metadata": {},
   "outputs": [
    {
     "data": {
      "text/plain": [
       "'text'"
      ]
     },
     "execution_count": 26,
     "metadata": {},
     "output_type": "execute_result"
    }
   ],
   "source": [
    "text[0:4]#slicing"
   ]
  },
  {
   "cell_type": "code",
   "execution_count": 27,
   "id": "546df345-3470-4501-bfe7-b6ff53fed541",
   "metadata": {},
   "outputs": [
    {
     "data": {
      "text/plain": [
       "'tx satx tig'"
      ]
     },
     "execution_count": 27,
     "metadata": {},
     "output_type": "execute_result"
    }
   ],
   "source": [
    "text[0::2]#silicing with jump (leaving)2"
   ]
  },
  {
   "cell_type": "code",
   "execution_count": 28,
   "id": "d6d7afde-fea1-4408-8a4f-50e045516e11",
   "metadata": {},
   "outputs": [
    {
     "name": "stdout",
     "output_type": "stream",
     "text": [
      "21\n"
     ]
    }
   ],
   "source": [
    "print( len(text))#length"
   ]
  },
  {
   "cell_type": "code",
   "execution_count": 61,
   "id": "1ce04666",
   "metadata": {},
   "outputs": [
    {
     "name": "stdout",
     "output_type": "stream",
     "text": [
      "text is a text string      \n"
     ]
    }
   ],
   "source": [
    "text=text+\"   \"\n",
    "print(text)"
   ]
  },
  {
   "cell_type": "code",
   "execution_count": 62,
   "id": "0a17f1da",
   "metadata": {},
   "outputs": [
    {
     "data": {
      "text/plain": [
       "'text is a text string      text is a text string      '"
      ]
     },
     "execution_count": 62,
     "metadata": {},
     "output_type": "execute_result"
    }
   ],
   "source": [
    "text*2"
   ]
  },
  {
   "cell_type": "code",
   "execution_count": 63,
   "id": "28f5df97",
   "metadata": {},
   "outputs": [
    {
     "data": {
      "text/plain": [
       "'text is a text string      '"
      ]
     },
     "execution_count": 63,
     "metadata": {},
     "output_type": "execute_result"
    }
   ],
   "source": [
    "text"
   ]
  },
  {
   "cell_type": "code",
   "execution_count": 64,
   "id": "71a14e23",
   "metadata": {},
   "outputs": [
    {
     "data": {
      "text/plain": [
       "'text is a text string'"
      ]
     },
     "execution_count": 64,
     "metadata": {},
     "output_type": "execute_result"
    }
   ],
   "source": [
    "text.strip()"
   ]
  },
  {
   "cell_type": "code",
   "execution_count": 65,
   "id": "f0a71246",
   "metadata": {},
   "outputs": [
    {
     "data": {
      "text/plain": [
       "'text is a text string'"
      ]
     },
     "execution_count": 65,
     "metadata": {},
     "output_type": "execute_result"
    }
   ],
   "source": [
    "text.rstrip()"
   ]
  },
  {
   "cell_type": "code",
   "execution_count": 66,
   "id": "10b5068e",
   "metadata": {},
   "outputs": [
    {
     "data": {
      "text/plain": [
       "['text', 'is', 'a', 'text', 'string']"
      ]
     },
     "execution_count": 66,
     "metadata": {},
     "output_type": "execute_result"
    }
   ],
   "source": [
    "text.split()"
   ]
  },
  {
   "cell_type": "code",
   "execution_count": 67,
   "id": "e84076a0",
   "metadata": {},
   "outputs": [],
   "source": [
    "text=text+\",\"+\"lalalalala\""
   ]
  },
  {
   "cell_type": "code",
   "execution_count": 68,
   "id": "c0e3581b",
   "metadata": {},
   "outputs": [
    {
     "data": {
      "text/plain": [
       "'text is a text string      ,lalalalala'"
      ]
     },
     "execution_count": 68,
     "metadata": {},
     "output_type": "execute_result"
    }
   ],
   "source": [
    "text"
   ]
  },
  {
   "cell_type": "code",
   "execution_count": 69,
   "id": "884568d1",
   "metadata": {},
   "outputs": [
    {
     "data": {
      "text/plain": [
       "['text', 'is', 'a', 'text', 'string', ',lalalalala']"
      ]
     },
     "execution_count": 69,
     "metadata": {},
     "output_type": "execute_result"
    }
   ],
   "source": [
    "text.split()"
   ]
  },
  {
   "cell_type": "code",
   "execution_count": 70,
   "id": "694b7fda",
   "metadata": {},
   "outputs": [],
   "source": [
    "text=text+\"%%\""
   ]
  },
  {
   "cell_type": "code",
   "execution_count": 71,
   "id": "b6394cf3",
   "metadata": {},
   "outputs": [
    {
     "data": {
      "text/plain": [
       "'text is a text string      ,lalalalala%%'"
      ]
     },
     "execution_count": 71,
     "metadata": {},
     "output_type": "execute_result"
    }
   ],
   "source": [
    "text"
   ]
  },
  {
   "cell_type": "code",
   "execution_count": 72,
   "id": "ddea02f0",
   "metadata": {},
   "outputs": [
    {
     "data": {
      "text/plain": [
       "'text is a text string      ,lalalalala%%'"
      ]
     },
     "execution_count": 72,
     "metadata": {},
     "output_type": "execute_result"
    }
   ],
   "source": [
    "text.strip()"
   ]
  },
  {
   "cell_type": "code",
   "execution_count": 73,
   "id": "57585088",
   "metadata": {},
   "outputs": [
    {
     "data": {
      "text/plain": [
       "'TEXT IS A TEXT STRING      ,LALALALALA%%'"
      ]
     },
     "execution_count": 73,
     "metadata": {},
     "output_type": "execute_result"
    }
   ],
   "source": [
    "text.upper()"
   ]
  },
  {
   "cell_type": "code",
   "execution_count": 74,
   "id": "a81d782e",
   "metadata": {},
   "outputs": [
    {
     "data": {
      "text/plain": [
       "'text is a text string      ,lalalalala%%'"
      ]
     },
     "execution_count": 74,
     "metadata": {},
     "output_type": "execute_result"
    }
   ],
   "source": [
    "text.lower()"
   ]
  },
  {
   "cell_type": "code",
   "execution_count": 76,
   "id": "3f1d2a35",
   "metadata": {},
   "outputs": [
    {
     "data": {
      "text/plain": [
       "5"
      ]
     },
     "execution_count": 76,
     "metadata": {},
     "output_type": "execute_result"
    }
   ],
   "source": [
    "text.count(\"t\")"
   ]
  },
  {
   "cell_type": "code",
   "execution_count": 78,
   "id": "2299c889-3b20-4780-a1d2-2f2969eefd33",
   "metadata": {},
   "outputs": [
    {
     "name": "stdout",
     "output_type": "stream",
     "text": [
      "True\n"
     ]
    }
   ],
   "source": [
    "print(\"is\" in text)"
   ]
  },
  {
   "cell_type": "code",
   "execution_count": 79,
   "id": "e257d8d8",
   "metadata": {},
   "outputs": [
    {
     "name": "stdout",
     "output_type": "stream",
     "text": [
      "False\n"
     ]
    }
   ],
   "source": [
    "print(\"is\" not in text)"
   ]
  },
  {
   "cell_type": "code",
   "execution_count": 80,
   "id": "d9880d01",
   "metadata": {},
   "outputs": [
    {
     "data": {
      "text/plain": [
       "'ACHAL BISHT'"
      ]
     },
     "execution_count": 80,
     "metadata": {},
     "output_type": "execute_result"
    }
   ],
   "source": [
    "name"
   ]
  },
  {
   "cell_type": "code",
   "execution_count": 19,
   "id": "33751fc7-9e2e-491d-8a4d-920284ed01c2",
   "metadata": {},
   "outputs": [
    {
     "name": "stdout",
     "output_type": "stream",
     "text": [
      "hey,ACHAL BISHT\n"
     ]
    }
   ],
   "source": [
    "print(\"hey,{}\".format(name))"
   ]
  },
  {
   "cell_type": "code",
   "execution_count": 21,
   "id": "5c30b891-e49b-405e-a7b4-6e531554e0a5",
   "metadata": {},
   "outputs": [
    {
     "name": "stdout",
     "output_type": "stream",
     "text": [
      "hey,ACHAL BISHT,1,2.5\n"
     ]
    }
   ],
   "source": [
    "print(\"hey,{},{},{}\".format(name,a,b))"
   ]
  },
  {
   "cell_type": "markdown",
   "id": "049fac10-0d2b-406a-a2c0-1098edc10d3d",
   "metadata": {},
   "source": [
    "# Data structure"
   ]
  },
  {
   "cell_type": "code",
   "execution_count": 22,
   "id": "38777fa8-8ea4-4092-bab3-01074b444eea",
   "metadata": {},
   "outputs": [
    {
     "data": {
      "text/plain": [
       "[1, 2, 3, 3, 4, 4, 4, 5, 5, 5, 5, 6]"
      ]
     },
     "execution_count": 22,
     "metadata": {},
     "output_type": "execute_result"
    }
   ],
   "source": [
    "list1=[1,2,3,3,4,4,4,5,5,5,5,6]\n",
    "list1"
   ]
  },
  {
   "cell_type": "code",
   "execution_count": 82,
   "id": "ce9efee2-a038-4421-b1c3-dfb924bd565b",
   "metadata": {},
   "outputs": [],
   "source": [
    "tup=1,4,5,7"
   ]
  },
  {
   "cell_type": "code",
   "execution_count": 84,
   "id": "dcb292f8",
   "metadata": {},
   "outputs": [
    {
     "data": {
      "text/plain": [
       "(1, 4, 5, 7)"
      ]
     },
     "execution_count": 84,
     "metadata": {},
     "output_type": "execute_result"
    }
   ],
   "source": [
    "tup"
   ]
  },
  {
   "cell_type": "code",
   "execution_count": 86,
   "id": "fc08967d-c42a-4337-a357-83bf707188e7",
   "metadata": {},
   "outputs": [
    {
     "data": {
      "text/plain": [
       "4"
      ]
     },
     "execution_count": 86,
     "metadata": {},
     "output_type": "execute_result"
    }
   ],
   "source": [
    "list1[4]"
   ]
  },
  {
   "cell_type": "code",
   "execution_count": 88,
   "id": "2c2a0ce3",
   "metadata": {},
   "outputs": [
    {
     "data": {
      "text/plain": [
       "[1, 2, 3, 3, 54, 4, 4, 5, 5, 5, 5, 6]"
      ]
     },
     "execution_count": 88,
     "metadata": {},
     "output_type": "execute_result"
    }
   ],
   "source": [
    "list1[4]=54\n",
    "list1"
   ]
  },
  {
   "cell_type": "code",
   "execution_count": 89,
   "id": "2be1b327",
   "metadata": {},
   "outputs": [
    {
     "data": {
      "text/plain": [
       "7"
      ]
     },
     "execution_count": 89,
     "metadata": {},
     "output_type": "execute_result"
    }
   ],
   "source": [
    "tup[3]"
   ]
  },
  {
   "cell_type": "code",
   "execution_count": 93,
   "id": "5b17179a",
   "metadata": {},
   "outputs": [
    {
     "data": {
      "text/plain": [
       "[1, 2, 3, 3, 54, 4, 4, 5, 5, 5, 5, 6, 22, 22]"
      ]
     },
     "execution_count": 93,
     "metadata": {},
     "output_type": "execute_result"
    }
   ],
   "source": [
    "list1= list1 + [22]\n",
    "list1"
   ]
  },
  {
   "cell_type": "code",
   "execution_count": 23,
   "id": "bb41aa4e-e71a-46fd-9b83-3827691186f6",
   "metadata": {},
   "outputs": [],
   "source": [
    "my_set=set(list1)"
   ]
  },
  {
   "cell_type": "code",
   "execution_count": 24,
   "id": "c0655a6a-bec3-4eac-87da-ff4168124862",
   "metadata": {},
   "outputs": [
    {
     "data": {
      "text/plain": [
       "{1, 2, 3, 4, 5, 6}"
      ]
     },
     "execution_count": 24,
     "metadata": {},
     "output_type": "execute_result"
    }
   ],
   "source": [
    "my_set"
   ]
  },
  {
   "cell_type": "code",
   "execution_count": 28,
   "id": "57d3686f-924e-4f5c-b564-c2c7ac83af92",
   "metadata": {},
   "outputs": [],
   "source": [
    "dict1={ 1:\"value\",\"name\":\"achal\"}"
   ]
  },
  {
   "cell_type": "code",
   "execution_count": 29,
   "id": "246f4f15-afc9-4c75-bf05-a74199be12d6",
   "metadata": {},
   "outputs": [
    {
     "data": {
      "text/plain": [
       "{1: 'value', 'name': 'achal'}"
      ]
     },
     "execution_count": 29,
     "metadata": {},
     "output_type": "execute_result"
    }
   ],
   "source": [
    "dict1"
   ]
  },
  {
   "cell_type": "code",
   "execution_count": 30,
   "id": "e8160b9d-a595-4ffd-8a4a-5a17c7f7a669",
   "metadata": {},
   "outputs": [
    {
     "data": {
      "text/plain": [
       "'value'"
      ]
     },
     "execution_count": 30,
     "metadata": {},
     "output_type": "execute_result"
    }
   ],
   "source": [
    "dict1[1]"
   ]
  },
  {
   "cell_type": "code",
   "execution_count": 32,
   "id": "164ca2c1-656c-453a-8079-61316046d3e7",
   "metadata": {},
   "outputs": [
    {
     "data": {
      "text/plain": [
       "dict_keys([1, 'name'])"
      ]
     },
     "execution_count": 32,
     "metadata": {},
     "output_type": "execute_result"
    }
   ],
   "source": [
    "dict1.keys()"
   ]
  },
  {
   "cell_type": "code",
   "execution_count": 85,
   "id": "c87b889f-e357-40d4-92d9-cbcd0b153eff",
   "metadata": {},
   "outputs": [
    {
     "data": {
      "text/plain": [
       "dict_values(['value', 'achal'])"
      ]
     },
     "execution_count": 85,
     "metadata": {},
     "output_type": "execute_result"
    }
   ],
   "source": [
    "dict1.values()"
   ]
  }
 ],
 "metadata": {
  "kernelspec": {
   "display_name": "Python 3 (ipykernel)",
   "language": "python",
   "name": "python3"
  },
  "language_info": {
   "codemirror_mode": {
    "name": "ipython",
    "version": 3
   },
   "file_extension": ".py",
   "mimetype": "text/x-python",
   "name": "python",
   "nbconvert_exporter": "python",
   "pygments_lexer": "ipython3",
   "version": "3.11.7"
  }
 },
 "nbformat": 4,
 "nbformat_minor": 5
}
