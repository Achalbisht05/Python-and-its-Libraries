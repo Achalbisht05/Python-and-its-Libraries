{
 "cells": [
  {
   "cell_type": "markdown",
   "id": "1d708f9b-b9d1-473d-b0e1-c13cd06e93ba",
   "metadata": {},
   "source": [
    "# variables"
   ]
  },
  {
   "cell_type": "markdown",
   "id": "27d6102e-2f73-4860-b568-e20732c81af4",
   "metadata": {},
   "source": [
    "#**heading 2**"
   ]
  },
  {
   "cell_type": "code",
   "execution_count": 3,
   "id": "7b9a2fe8-0c58-480d-8c3d-8561c3f36dea",
   "metadata": {},
   "outputs": [],
   "source": [
    "name=\"Achal\""
   ]
  },
  {
   "cell_type": "code",
   "execution_count": 4,
   "id": "e35d6292-dfc5-4475-b305-b4d91c975eda",
   "metadata": {},
   "outputs": [
    {
     "name": "stdout",
     "output_type": "stream",
     "text": [
      "Achal\n"
     ]
    }
   ],
   "source": [
    "print(name)"
   ]
  },
  {
   "cell_type": "code",
   "execution_count": 5,
   "id": "dacbb1a7-3d0b-44bf-acff-b75d435cc244",
   "metadata": {},
   "outputs": [
    {
     "name": "stdin",
     "output_type": "stream",
     "text": [
      "ENTER YOUR NAME ACHAL BISHT\n"
     ]
    }
   ],
   "source": [
    "name=input(\"ENTER YOUR NAME\")"
   ]
  },
  {
   "cell_type": "code",
   "execution_count": 6,
   "id": "9a684adb-ffe2-4cb1-aba3-83a05c3a24fd",
   "metadata": {},
   "outputs": [
    {
     "name": "stdout",
     "output_type": "stream",
     "text": [
      "ACHAL BISHT\n"
     ]
    }
   ],
   "source": [
    "print(name)"
   ]
  },
  {
   "cell_type": "code",
   "execution_count": 3,
   "id": "fabbf36f-152a-4515-b508-21591046e13b",
   "metadata": {},
   "outputs": [],
   "source": [
    "a=1"
   ]
  },
  {
   "cell_type": "code",
   "execution_count": 4,
   "id": "86685acf-8921-401a-8e0e-8fcc41a7aaea",
   "metadata": {},
   "outputs": [
    {
     "name": "stdout",
     "output_type": "stream",
     "text": [
      "<class 'int'>\n"
     ]
    }
   ],
   "source": [
    "print(type(a))"
   ]
  },
  {
   "cell_type": "code",
   "execution_count": 5,
   "id": "3a9eca0c-f0e5-44e6-b635-1e43d25d1949",
   "metadata": {},
   "outputs": [],
   "source": [
    "b=2.5"
   ]
  },
  {
   "cell_type": "code",
   "execution_count": 6,
   "id": "98b2d7bd-b3ff-40e9-8508-e6e4478564ab",
   "metadata": {},
   "outputs": [
    {
     "name": "stdout",
     "output_type": "stream",
     "text": [
      "<class 'int'>\n"
     ]
    }
   ],
   "source": [
    "print(type(a))"
   ]
  },
  {
   "cell_type": "code",
   "execution_count": 7,
   "id": "9e6b7c3c-b08d-4e55-b74b-9583cb0857ba",
   "metadata": {},
   "outputs": [],
   "source": [
    "c=True"
   ]
  },
  {
   "cell_type": "code",
   "execution_count": 8,
   "id": "a8bc6d68-2740-438f-a98f-33567768b946",
   "metadata": {},
   "outputs": [
    {
     "name": "stdout",
     "output_type": "stream",
     "text": [
      "<class 'bool'>\n"
     ]
    }
   ],
   "source": [
    "print(type(c))"
   ]
  },
  {
   "cell_type": "code",
   "execution_count": 9,
   "id": "8acf6030-ce90-4150-a1f6-2c1b5b178410",
   "metadata": {},
   "outputs": [],
   "source": [
    "d=bool(b)"
   ]
  },
  {
   "cell_type": "code",
   "execution_count": 10,
   "id": "15f1e49b-2a34-4241-851b-cb051349f0e0",
   "metadata": {},
   "outputs": [
    {
     "name": "stdout",
     "output_type": "stream",
     "text": [
      "<class 'bool'>\n"
     ]
    }
   ],
   "source": [
    "print(type(d))"
   ]
  },
  {
   "cell_type": "code",
   "execution_count": 11,
   "id": "082ebbb5-a567-4e70-ab9d-f9bf8435a495",
   "metadata": {},
   "outputs": [
    {
     "name": "stdout",
     "output_type": "stream",
     "text": [
      "<class 'int'>\n"
     ]
    }
   ],
   "source": [
    "e=int(b)\n",
    "print(type(e))"
   ]
  },
  {
   "cell_type": "code",
   "execution_count": 12,
   "id": "c3183f1d-29e6-4e82-ba6d-1b35e5571f89",
   "metadata": {},
   "outputs": [
    {
     "data": {
      "text/plain": [
       "2"
      ]
     },
     "execution_count": 12,
     "metadata": {},
     "output_type": "execute_result"
    }
   ],
   "source": [
    "e"
   ]
  },
  {
   "cell_type": "markdown",
   "id": "40622408-af91-416f-aecb-680f98ed109b",
   "metadata": {},
   "source": [
    "# Arithmetic operation"
   ]
  },
  {
   "cell_type": "code",
   "execution_count": 13,
   "id": "6e965b34-ba1a-4ab1-8598-00ed47ff9d63",
   "metadata": {},
   "outputs": [
    {
     "data": {
      "text/plain": [
       "3.5"
      ]
     },
     "execution_count": 13,
     "metadata": {},
     "output_type": "execute_result"
    }
   ],
   "source": [
    "a+b"
   ]
  },
  {
   "cell_type": "code",
   "execution_count": 14,
   "id": "2f780ac8-eb56-4d0d-9f81-3279688e7b69",
   "metadata": {},
   "outputs": [
    {
     "data": {
      "text/plain": [
       "-1.5"
      ]
     },
     "execution_count": 14,
     "metadata": {},
     "output_type": "execute_result"
    }
   ],
   "source": [
    "a-b"
   ]
  },
  {
   "cell_type": "code",
   "execution_count": 15,
   "id": "1dde30f5-d9d6-44f3-9ae8-556c91dc6c64",
   "metadata": {},
   "outputs": [
    {
     "data": {
      "text/plain": [
       "2.5"
      ]
     },
     "execution_count": 15,
     "metadata": {},
     "output_type": "execute_result"
    }
   ],
   "source": [
    "a*b"
   ]
  },
  {
   "cell_type": "code",
   "execution_count": 16,
   "id": "4d377b2b-7098-4891-998c-069e785e9b28",
   "metadata": {},
   "outputs": [
    {
     "data": {
      "text/plain": [
       "0.4"
      ]
     },
     "execution_count": 16,
     "metadata": {},
     "output_type": "execute_result"
    }
   ],
   "source": [
    "a/b #division "
   ]
  },
  {
   "cell_type": "code",
   "execution_count": 17,
   "id": "8c1215cb-668b-4cb4-a933-4f01e5095dc8",
   "metadata": {},
   "outputs": [
    {
     "data": {
      "text/plain": [
       "0.0"
      ]
     },
     "execution_count": 17,
     "metadata": {},
     "output_type": "execute_result"
    }
   ],
   "source": [
    "a//b"
   ]
  },
  {
   "cell_type": "code",
   "execution_count": 18,
   "id": "f3405148-4bcb-480c-a46e-efd3ab21e484",
   "metadata": {},
   "outputs": [
    {
     "data": {
      "text/plain": [
       "1.0"
      ]
     },
     "execution_count": 18,
     "metadata": {},
     "output_type": "execute_result"
    }
   ],
   "source": [
    "a**b"
   ]
  },
  {
   "cell_type": "code",
   "execution_count": 19,
   "id": "32e7d494-90f8-4ca5-898f-79b597d72cd9",
   "metadata": {},
   "outputs": [
    {
     "data": {
      "text/plain": [
       "1.0"
      ]
     },
     "execution_count": 19,
     "metadata": {},
     "output_type": "execute_result"
    }
   ],
   "source": [
    "a%b"
   ]
  },
  {
   "cell_type": "code",
   "execution_count": 20,
   "id": "675508a4-1a53-472b-877e-76bd70c859fc",
   "metadata": {},
   "outputs": [
    {
     "data": {
      "text/plain": [
       "19"
      ]
     },
     "execution_count": 20,
     "metadata": {},
     "output_type": "execute_result"
    }
   ],
   "source": [
    "((4*5)+5-6)"
   ]
  },
  {
   "cell_type": "markdown",
   "id": "6be0af89-6bf0-4120-93c0-d6bcb8817b21",
   "metadata": {},
   "source": [
    "# string operation"
   ]
  },
  {
   "cell_type": "code",
   "execution_count": 22,
   "id": "f6df4a36-4208-4dc8-ac5e-85f95d4dfba4",
   "metadata": {},
   "outputs": [],
   "source": [
    "text=\"text is a text string\""
   ]
  },
  {
   "cell_type": "code",
   "execution_count": 25,
   "id": "a3b2d9d8-064a-4fbe-b2db-d53a570ced6d",
   "metadata": {},
   "outputs": [
    {
     "data": {
      "text/plain": [
       "'x'"
      ]
     },
     "execution_count": 25,
     "metadata": {},
     "output_type": "execute_result"
    }
   ],
   "source": [
    "text[2]#indexing"
   ]
  },
  {
   "cell_type": "code",
   "execution_count": 26,
   "id": "9ffb4d4d-c6c5-4d47-851e-9e8effc32c2b",
   "metadata": {},
   "outputs": [
    {
     "data": {
      "text/plain": [
       "'text'"
      ]
     },
     "execution_count": 26,
     "metadata": {},
     "output_type": "execute_result"
    }
   ],
   "source": [
    "text[0:4]#slicing"
   ]
  },
  {
   "cell_type": "code",
   "execution_count": 27,
   "id": "546df345-3470-4501-bfe7-b6ff53fed541",
   "metadata": {},
   "outputs": [
    {
     "data": {
      "text/plain": [
       "'tx satx tig'"
      ]
     },
     "execution_count": 27,
     "metadata": {},
     "output_type": "execute_result"
    }
   ],
   "source": [
    "text[0::2]#silicing with jump (leaving)2"
   ]
  },
  {
   "cell_type": "code",
   "execution_count": 28,
   "id": "d6d7afde-fea1-4408-8a4f-50e045516e11",
   "metadata": {},
   "outputs": [
    {
     "name": "stdout",
     "output_type": "stream",
     "text": [
      "21\n"
     ]
    }
   ],
   "source": [
    "print( len(text))#length"
   ]
  },
  {
   "cell_type": "code",
   "execution_count": 61,
   "id": "1ce04666",
   "metadata": {},
   "outputs": [
    {
     "name": "stdout",
     "output_type": "stream",
     "text": [
      "text is a text string      \n"
     ]
    }
   ],
   "source": [
    "text=text+\"   \"\n",
    "print(text)"
   ]
  },
  {
   "cell_type": "code",
   "execution_count": 62,
   "id": "0a17f1da",
   "metadata": {},
   "outputs": [
    {
     "data": {
      "text/plain": [
       "'text is a text string      text is a text string      '"
      ]
     },
     "execution_count": 62,
     "metadata": {},
     "output_type": "execute_result"
    }
   ],
   "source": [
    "text*2"
   ]
  },
  {
   "cell_type": "code",
   "execution_count": 63,
   "id": "28f5df97",
   "metadata": {},
   "outputs": [
    {
     "data": {
      "text/plain": [
       "'text is a text string      '"
      ]
     },
     "execution_count": 63,
     "metadata": {},
     "output_type": "execute_result"
    }
   ],
   "source": [
    "text"
   ]
  },
  {
   "cell_type": "code",
   "execution_count": 64,
   "id": "71a14e23",
   "metadata": {},
   "outputs": [
    {
     "data": {
      "text/plain": [
       "'text is a text string'"
      ]
     },
     "execution_count": 64,
     "metadata": {},
     "output_type": "execute_result"
    }
   ],
   "source": [
    "text.strip()"
   ]
  },
  {
   "cell_type": "code",
   "execution_count": 65,
   "id": "f0a71246",
   "metadata": {},
   "outputs": [
    {
     "data": {
      "text/plain": [
       "'text is a text string'"
      ]
     },
     "execution_count": 65,
     "metadata": {},
     "output_type": "execute_result"
    }
   ],
   "source": [
    "text.rstrip()"
   ]
  },
  {
   "cell_type": "code",
   "execution_count": 66,
   "id": "10b5068e",
   "metadata": {},
   "outputs": [
    {
     "data": {
      "text/plain": [
       "['text', 'is', 'a', 'text', 'string']"
      ]
     },
     "execution_count": 66,
     "metadata": {},
     "output_type": "execute_result"
    }
   ],
   "source": [
    "text.split()"
   ]
  },
  {
   "cell_type": "code",
   "execution_count": 67,
   "id": "e84076a0",
   "metadata": {},
   "outputs": [],
   "source": [
    "text=text+\",\"+\"lalalalala\""
   ]
  },
  {
   "cell_type": "code",
   "execution_count": 68,
   "id": "c0e3581b",
   "metadata": {},
   "outputs": [
    {
     "data": {
      "text/plain": [
       "'text is a text string      ,lalalalala'"
      ]
     },
     "execution_count": 68,
     "metadata": {},
     "output_type": "execute_result"
    }
   ],
   "source": [
    "text"
   ]
  },
  {
   "cell_type": "code",
   "execution_count": 69,
   "id": "884568d1",
   "metadata": {},
   "outputs": [
    {
     "data": {
      "text/plain": [
       "['text', 'is', 'a', 'text', 'string', ',lalalalala']"
      ]
     },
     "execution_count": 69,
     "metadata": {},
     "output_type": "execute_result"
    }
   ],
   "source": [
    "text.split()"
   ]
  },
  {
   "cell_type": "code",
   "execution_count": 70,
   "id": "694b7fda",
   "metadata": {},
   "outputs": [],
   "source": [
    "text=text+\"%%\""
   ]
  },
  {
   "cell_type": "code",
   "execution_count": 71,
   "id": "b6394cf3",
   "metadata": {},
   "outputs": [
    {
     "data": {
      "text/plain": [
       "'text is a text string      ,lalalalala%%'"
      ]
     },
     "execution_count": 71,
     "metadata": {},
     "output_type": "execute_result"
    }
   ],
   "source": [
    "text"
   ]
  },
  {
   "cell_type": "code",
   "execution_count": 72,
   "id": "ddea02f0",
   "metadata": {},
   "outputs": [
    {
     "data": {
      "text/plain": [
       "'text is a text string      ,lalalalala%%'"
      ]
     },
     "execution_count": 72,
     "metadata": {},
     "output_type": "execute_result"
    }
   ],
   "source": [
    "text.strip()"
   ]
  },
  {
   "cell_type": "code",
   "execution_count": 73,
   "id": "57585088",
   "metadata": {},
   "outputs": [
    {
     "data": {
      "text/plain": [
       "'TEXT IS A TEXT STRING      ,LALALALALA%%'"
      ]
     },
     "execution_count": 73,
     "metadata": {},
     "output_type": "execute_result"
    }
   ],
   "source": [
    "text.upper()"
   ]
  },
  {
   "cell_type": "code",
   "execution_count": 74,
   "id": "a81d782e",
   "metadata": {},
   "outputs": [
    {
     "data": {
      "text/plain": [
       "'text is a text string      ,lalalalala%%'"
      ]
     },
     "execution_count": 74,
     "metadata": {},
     "output_type": "execute_result"
    }
   ],
   "source": [
    "text.lower()"
   ]
  },
  {
   "cell_type": "code",
   "execution_count": 76,
   "id": "3f1d2a35",
   "metadata": {},
   "outputs": [
    {
     "data": {
      "text/plain": [
       "5"
      ]
     },
     "execution_count": 76,
     "metadata": {},
     "output_type": "execute_result"
    }
   ],
   "source": [
    "text.count(\"t\")"
   ]
  },
  {
   "cell_type": "code",
   "execution_count": 78,
   "id": "2299c889-3b20-4780-a1d2-2f2969eefd33",
   "metadata": {},
   "outputs": [
    {
     "name": "stdout",
     "output_type": "stream",
     "text": [
      "True\n"
     ]
    }
   ],
   "source": [
    "print(\"is\" in text)"
   ]
  },
  {
   "cell_type": "code",
   "execution_count": 79,
   "id": "e257d8d8",
   "metadata": {},
   "outputs": [
    {
     "name": "stdout",
     "output_type": "stream",
     "text": [
      "False\n"
     ]
    }
   ],
   "source": [
    "print(\"is\" not in text)"
   ]
  },
  {
   "cell_type": "code",
   "execution_count": 80,
   "id": "d9880d01",
   "metadata": {},
   "outputs": [
    {
     "data": {
      "text/plain": [
       "'ACHAL BISHT'"
      ]
     },
     "execution_count": 80,
     "metadata": {},
     "output_type": "execute_result"
    }
   ],
   "source": [
    "name"
   ]
  },
  {
   "cell_type": "code",
   "execution_count": 19,
   "id": "33751fc7-9e2e-491d-8a4d-920284ed01c2",
   "metadata": {},
   "outputs": [
    {
     "name": "stdout",
     "output_type": "stream",
     "text": [
      "hey,ACHAL BISHT\n"
     ]
    }
   ],
   "source": [
    "print(\"hey,{}\".format(name))"
   ]
  },
  {
   "cell_type": "code",
   "execution_count": 21,
   "id": "5c30b891-e49b-405e-a7b4-6e531554e0a5",
   "metadata": {},
   "outputs": [
    {
     "name": "stdout",
     "output_type": "stream",
     "text": [
      "hey,ACHAL BISHT,1,2.5\n"
     ]
    }
   ],
   "source": [
    "print(\"hey,{},{},{}\".format(name,a,b))"
   ]
  },
  {
   "cell_type": "markdown",
   "id": "049fac10-0d2b-406a-a2c0-1098edc10d3d",
   "metadata": {},
   "source": [
    "# Data structure"
   ]
  },
  {
   "cell_type": "code",
   "execution_count": 22,
   "id": "38777fa8-8ea4-4092-bab3-01074b444eea",
   "metadata": {},
   "outputs": [
    {
     "data": {
      "text/plain": [
       "[1, 2, 3, 3, 4, 4, 4, 5, 5, 5, 5, 6]"
      ]
     },
     "execution_count": 22,
     "metadata": {},
     "output_type": "execute_result"
    }
   ],
   "source": [
    "list1=[1,2,3,3,4,4,4,5,5,5,5,6]\n",
    "list1"
   ]
  },
  {
   "cell_type": "code",
   "execution_count": 82,
   "id": "ce9efee2-a038-4421-b1c3-dfb924bd565b",
   "metadata": {},
   "outputs": [],
   "source": [
    "tup=1,4,5,7"
   ]
  },
  {
   "cell_type": "code",
   "execution_count": 84,
   "id": "dcb292f8",
   "metadata": {},
   "outputs": [
    {
     "data": {
      "text/plain": [
       "(1, 4, 5, 7)"
      ]
     },
     "execution_count": 84,
     "metadata": {},
     "output_type": "execute_result"
    }
   ],
   "source": [
    "tup"
   ]
  },
  {
   "cell_type": "code",
   "execution_count": 86,
   "id": "fc08967d-c42a-4337-a357-83bf707188e7",
   "metadata": {},
   "outputs": [
    {
     "data": {
      "text/plain": [
       "4"
      ]
     },
     "execution_count": 86,
     "metadata": {},
     "output_type": "execute_result"
    }
   ],
   "source": [
    "list1[4]"
   ]
  },
  {
   "cell_type": "code",
   "execution_count": 88,
   "id": "2c2a0ce3",
   "metadata": {},
   "outputs": [
    {
     "data": {
      "text/plain": [
       "[1, 2, 3, 3, 54, 4, 4, 5, 5, 5, 5, 6]"
      ]
     },
     "execution_count": 88,
     "metadata": {},
     "output_type": "execute_result"
    }
   ],
   "source": [
    "list1[4]=54\n",
    "list1"
   ]
  },
  {
   "cell_type": "code",
   "execution_count": 89,
   "id": "2be1b327",
   "metadata": {},
   "outputs": [
    {
     "data": {
      "text/plain": [
       "7"
      ]
     },
     "execution_count": 89,
     "metadata": {},
     "output_type": "execute_result"
    }
   ],
   "source": [
    "tup[3]"
   ]
  },
  {
   "cell_type": "code",
   "execution_count": 93,
   "id": "5b17179a",
   "metadata": {},
   "outputs": [
    {
     "data": {
      "text/plain": [
       "[1, 2, 3, 3, 54, 4, 4, 5, 5, 5, 5, 6, 22, 22]"
      ]
     },
     "execution_count": 93,
     "metadata": {},
     "output_type": "execute_result"
    }
   ],
   "source": [
    "list1= list1 + [22]\n",
    "list1"
   ]
  },
  {
   "cell_type": "code",
   "execution_count": 23,
   "id": "bb41aa4e-e71a-46fd-9b83-3827691186f6",
   "metadata": {},
   "outputs": [],
   "source": [
    "my_set=set(list1)"
   ]
  },
  {
   "cell_type": "code",
   "execution_count": 24,
   "id": "c0655a6a-bec3-4eac-87da-ff4168124862",
   "metadata": {},
   "outputs": [
    {
     "data": {
      "text/plain": [
       "{1, 2, 3, 4, 5, 6}"
      ]
     },
     "execution_count": 24,
     "metadata": {},
     "output_type": "execute_result"
    }
   ],
   "source": [
    "my_set"
   ]
  },
  {
   "cell_type": "code",
   "execution_count": 28,
   "id": "57d3686f-924e-4f5c-b564-c2c7ac83af92",
   "metadata": {},
   "outputs": [],
   "source": [
    "dict1={ 1:\"value\",\"name\":\"achal\"}"
   ]
  },
  {
   "cell_type": "code",
   "execution_count": 29,
   "id": "246f4f15-afc9-4c75-bf05-a74199be12d6",
   "metadata": {},
   "outputs": [
    {
     "data": {
      "text/plain": [
       "{1: 'value', 'name': 'achal'}"
      ]
     },
     "execution_count": 29,
     "metadata": {},
     "output_type": "execute_result"
    }
   ],
   "source": [
    "dict1"
   ]
  },
  {
   "cell_type": "code",
   "execution_count": 30,
   "id": "e8160b9d-a595-4ffd-8a4a-5a17c7f7a669",
   "metadata": {},
   "outputs": [
    {
     "data": {
      "text/plain": [
       "'value'"
      ]
     },
     "execution_count": 30,
     "metadata": {},
     "output_type": "execute_result"
    }
   ],
   "source": [
    "dict1[1]"
   ]
  },
  {
   "cell_type": "code",
   "execution_count": 32,
   "id": "164ca2c1-656c-453a-8079-61316046d3e7",
   "metadata": {},
   "outputs": [
    {
     "data": {
      "text/plain": [
       "dict_keys([1, 'name'])"
      ]
     },
     "execution_count": 32,
     "metadata": {},
     "output_type": "execute_result"
    }
   ],
   "source": [
    "dict1.keys()"
   ]
  },
  {
   "cell_type": "code",
   "execution_count": 85,
   "id": "c87b889f-e357-40d4-92d9-cbcd0b153eff",
   "metadata": {},
   "outputs": [
    {
     "data": {
      "text/plain": [
       "dict_values(['value', 'achal'])"
      ]
     },
     "execution_count": 85,
     "metadata": {},
     "output_type": "execute_result"
    }
   ],
   "source": [
    "dict1.values()"
   ]
  }
 ],
 "metadata": {
  "kernelspec": {
   "display_name": "Python 3 (ipykernel)",
   "language": "python",
   "name": "python3"
  },
  "language_info": {
   "codemirror_mode": {
    "name": "ipython",
    "version": 3
   },
   "file_extension": ".py",
   "mimetype": "text/x-python",
   "name": "python",
   "nbconvert_exporter": "python",
   "pygments_lexer": "ipython3",
   "version": "3.11.7"
  }
 },
 "nbformat": 4,
 "nbformat_minor": 5
}
