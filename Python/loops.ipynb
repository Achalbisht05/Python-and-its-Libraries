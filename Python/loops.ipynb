{
 "cells": [
  {
   "cell_type": "markdown",
   "id": "9138e724-3f42-429b-a5af-88d631dc55c7",
   "metadata": {},
   "source": [
    "# Loops"
   ]
  },
  {
   "cell_type": "code",
   "execution_count": 1,
   "id": "a17d0fb0-b04b-4c3b-86d0-877b9eefacd5",
   "metadata": {},
   "outputs": [
    {
     "data": {
      "text/plain": [
       "range(0, 4)"
      ]
     },
     "execution_count": 1,
     "metadata": {},
     "output_type": "execute_result"
    }
   ],
   "source": [
    "range(4)"
   ]
  },
  {
   "cell_type": "code",
   "execution_count": 2,
   "id": "63bcfef2-d2ff-483d-b5b5-3fb1e31e60eb",
   "metadata": {},
   "outputs": [
    {
     "data": {
      "text/plain": [
       "range(1, 3)"
      ]
     },
     "execution_count": 2,
     "metadata": {},
     "output_type": "execute_result"
    }
   ],
   "source": [
    "range(1,3)"
   ]
  },
  {
   "cell_type": "code",
   "execution_count": 3,
   "id": "402bffac-6bdc-4a58-ac7f-46b897da740f",
   "metadata": {},
   "outputs": [
    {
     "name": "stdout",
     "output_type": "stream",
     "text": [
      "0\n",
      "1\n",
      "2\n",
      "3\n"
     ]
    }
   ],
   "source": [
    "for i in range(4):\n",
    "    print(i)"
   ]
  },
  {
   "cell_type": "code",
   "execution_count": 9,
   "id": "269ab8c9-6ffe-49c4-a7f4-4b45cfc4e9bf",
   "metadata": {},
   "outputs": [
    {
     "name": "stdout",
     "output_type": "stream",
     "text": [
      "Hello\n",
      "Hello\n",
      "Hello\n",
      "Hello\n",
      "Hello\n",
      "Hello\n"
     ]
    }
   ],
   "source": [
    "a=5\n",
    "while a>=0:\n",
    "    print(\"Hello\")\n",
    "    a-=1"
   ]
  },
  {
   "cell_type": "markdown",
   "id": "4cd76b50-0b63-4c2f-9f8a-d94ce20edd3f",
   "metadata": {},
   "source": [
    "# Conditional loop"
   ]
  },
  {
   "cell_type": "code",
   "execution_count": 10,
   "id": "30ea58bb-f0a2-4b57-9442-048f66f64a37",
   "metadata": {},
   "outputs": [
    {
     "name": "stdin",
     "output_type": "stream",
     "text": [
      "enter fruit name apple\n"
     ]
    },
    {
     "name": "stdout",
     "output_type": "stream",
     "text": [
      "i want to eat\n"
     ]
    }
   ],
   "source": [
    "a=input('enter fruit name')\n",
    "if a==\"apple\":\n",
    "    print(\"i want to eat\")\n",
    "elif a==\"orange\":\n",
    "    print(\"i want to eat\")\n",
    "else:\n",
    "    print(\"nhi khana\")"
   ]
  },
  {
   "cell_type": "code",
   "execution_count": 11,
   "id": "46692d2d-9fb1-464d-b945-d867abaff8a9",
   "metadata": {},
   "outputs": [
    {
     "name": "stdin",
     "output_type": "stream",
     "text": [
      "enter a number 5\n"
     ]
    },
    {
     "name": "stdout",
     "output_type": "stream",
     "text": [
      "odd\n"
     ]
    }
   ],
   "source": [
    "a=int(input(\"enter a number\"))\n",
    "if a%2==0:\n",
    "    print(\"even\")\n",
    "else:\n",
    "    print(\"odd\")"
   ]
  },
  {
   "cell_type": "code",
   "execution_count": 12,
   "id": "c9e2c253-8a19-4543-bdc5-6147acabad1d",
   "metadata": {},
   "outputs": [
    {
     "name": "stdin",
     "output_type": "stream",
     "text": [
      " Adihal\n",
      "enter a number 4\n"
     ]
    },
    {
     "name": "stdout",
     "output_type": "stream",
     "text": [
      "even\n"
     ]
    }
   ],
   "source": [
    "password=input()\n",
    "if password==\"Adihal\":\n",
    "    a=int(input(\"enter a number\"))\n",
    "    if a%2==0:\n",
    "        print(\"even\")\n",
    "    else:\n",
    "        print(\"odd\")"
   ]
  },
  {
   "cell_type": "markdown",
   "id": "0b37d318-49fd-489f-bc17-50798cc109b7",
   "metadata": {},
   "source": [
    "# function"
   ]
  },
  {
   "cell_type": "code",
   "execution_count": 13,
   "id": "1f334d24-4c95-412d-bece-79c45f056a18",
   "metadata": {},
   "outputs": [],
   "source": [
    "def adder(a,b):\n",
    "    c=a+b\n",
    "    return c"
   ]
  },
  {
   "cell_type": "code",
   "execution_count": 14,
   "id": "82a662a7-ca63-4210-9c9b-61d25c8c9d0a",
   "metadata": {},
   "outputs": [
    {
     "data": {
      "text/plain": [
       "3"
      ]
     },
     "execution_count": 14,
     "metadata": {},
     "output_type": "execute_result"
    }
   ],
   "source": [
    "adder(1,2)\n"
   ]
  },
  {
   "cell_type": "code",
   "execution_count": 15,
   "id": "6d34dbc8-bada-4577-b877-caf7f9efd34e",
   "metadata": {},
   "outputs": [
    {
     "name": "stdout",
     "output_type": "stream",
     "text": [
      "5\n"
     ]
    }
   ],
   "source": [
    "print(adder(3,2))"
   ]
  },
  {
   "cell_type": "code",
   "execution_count": 16,
   "id": "9ba2ba6c-8029-40e0-bfc3-3391f32409b5",
   "metadata": {},
   "outputs": [
    {
     "name": "stdout",
     "output_type": "stream",
     "text": [
      "8\n"
     ]
    }
   ],
   "source": [
    "a=adder(3,5)\n",
    "print(a)"
   ]
  },
  {
   "cell_type": "code",
   "execution_count": 17,
   "id": "054a9bfe-1fbe-4659-a246-b19de45ed781",
   "metadata": {},
   "outputs": [
    {
     "name": "stdin",
     "output_type": "stream",
     "text": [
      " 12\n",
      " 14\n"
     ]
    },
    {
     "data": {
      "text/plain": [
       "26"
      ]
     },
     "execution_count": 17,
     "metadata": {},
     "output_type": "execute_result"
    }
   ],
   "source": [
    "d=int(input())\n",
    "f=int(input())\n",
    "adder(d,f)"
   ]
  },
  {
   "cell_type": "code",
   "execution_count": 18,
   "id": "201ae819-e78a-4c7e-aaf9-8ddd9037e60e",
   "metadata": {},
   "outputs": [],
   "source": [
    "def ABC(a,b):\n",
    "    c=a+\"\"+b\n",
    "    return c"
   ]
  },
  {
   "cell_type": "code",
   "execution_count": 19,
   "id": "581490b6-da27-489c-abd9-8682968201a2",
   "metadata": {},
   "outputs": [
    {
     "name": "stdin",
     "output_type": "stream",
     "text": [
      " achal\n",
      " bisht\n"
     ]
    },
    {
     "data": {
      "text/plain": [
       "'achalbisht'"
      ]
     },
     "execution_count": 19,
     "metadata": {},
     "output_type": "execute_result"
    }
   ],
   "source": [
    "g=input()\n",
    "h=input()\n",
    "ABC(g,h)\n"
   ]
  },
  {
   "cell_type": "code",
   "execution_count": 20,
   "id": "62ad1f70-d511-45a9-a17c-4f312143d03a",
   "metadata": {},
   "outputs": [
    {
     "data": {
      "text/plain": [
       "'achalbisht'"
      ]
     },
     "execution_count": 20,
     "metadata": {},
     "output_type": "execute_result"
    }
   ],
   "source": [
    "adder(g,h)\n"
   ]
  },
  {
   "cell_type": "code",
   "execution_count": 21,
   "id": "699463fd-4f46-4cbc-b42f-d4ccd34eeca6",
   "metadata": {},
   "outputs": [
    {
     "data": {
      "text/plain": [
       "'achalbisht'"
      ]
     },
     "execution_count": 21,
     "metadata": {},
     "output_type": "execute_result"
    }
   ],
   "source": [
    "ABC(g,h)"
   ]
  },
  {
   "cell_type": "markdown",
   "id": "2ab0e651-403b-4b87-823e-ed083d45b788",
   "metadata": {},
   "source": [
    "# Decorators@"
   ]
  },
  {
   "cell_type": "code",
   "execution_count": 22,
   "id": "fb210fbc-2570-4fc1-8f80-fc29e62704bd",
   "metadata": {},
   "outputs": [],
   "source": [
    "def adder(a,b):\n",
    "    return a+b\n",
    "    "
   ]
  },
  {
   "cell_type": "code",
   "execution_count": 23,
   "id": "2f7e89e8-e81f-44fa-868c-5dfa4e4ce678",
   "metadata": {},
   "outputs": [
    {
     "name": "stdout",
     "output_type": "stream",
     "text": [
      "welcome user\n"
     ]
    },
    {
     "data": {
      "text/plain": [
       "6"
      ]
     },
     "execution_count": 23,
     "metadata": {},
     "output_type": "execute_result"
    }
   ],
   "source": [
    "print(\"welcome\",\"user\")\n",
    "adder(2,4)"
   ]
  },
  {
   "cell_type": "code",
   "execution_count": 24,
   "id": "4e53d0cc-ad64-42dc-9841-7ce8609c1c50",
   "metadata": {},
   "outputs": [],
   "source": [
    "def decor(func):\n",
    "    def wrapper():\n",
    "        pass\n",
    "    return wrapper"
   ]
  },
  {
   "cell_type": "code",
   "execution_count": 25,
   "id": "0388d7b7-4233-496d-bc1d-ae875e1e4215",
   "metadata": {},
   "outputs": [],
   "source": [
    "def adder(a,b):\n",
    "    return a+b"
   ]
  },
  {
   "cell_type": "code",
   "execution_count": 26,
   "id": "b5874379-e4d9-43b3-81b3-4ca9ab4d9589",
   "metadata": {},
   "outputs": [
    {
     "ename": "TypeError",
     "evalue": "decor() missing 1 required positional argument: 'func'",
     "output_type": "error",
     "traceback": [
      "\u001b[1;31m---------------------------------------------------------------------------\u001b[0m",
      "\u001b[1;31mTypeError\u001b[0m                                 Traceback (most recent call last)",
      "Cell \u001b[1;32mIn[26], line 1\u001b[0m\n\u001b[1;32m----> 1\u001b[0m a\u001b[38;5;241m=\u001b[39m\u001b[43mdecor\u001b[49m\u001b[43m(\u001b[49m\u001b[43m)\u001b[49m\n\u001b[0;32m      2\u001b[0m a()\n",
      "\u001b[1;31mTypeError\u001b[0m: decor() missing 1 required positional argument: 'func'"
     ]
    }
   ],
   "source": [
    "a=decor()\n",
    "a()"
   ]
  },
  {
   "cell_type": "code",
   "execution_count": null,
   "id": "cb70a308-8045-4428-aa81-d4eadd410fc4",
   "metadata": {},
   "outputs": [],
   "source": []
  }
 ],
 "metadata": {
  "kernelspec": {
   "display_name": "Python 3 (ipykernel)",
   "language": "python",
   "name": "python3"
  },
  "language_info": {
   "codemirror_mode": {
    "name": "ipython",
    "version": 3
   },
   "file_extension": ".py",
   "mimetype": "text/x-python",
   "name": "python",
   "nbconvert_exporter": "python",
   "pygments_lexer": "ipython3",
   "version": "3.11.7"
  }
 },
 "nbformat": 4,
 "nbformat_minor": 5
}
