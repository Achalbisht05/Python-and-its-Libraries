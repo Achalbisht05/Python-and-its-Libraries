{
 "cells": [
  {
   "cell_type": "markdown",
   "id": "97e4793a-2295-4a55-95c4-9dacdc67ddd0",
   "metadata": {},
   "source": [
    "# String operation"
   ]
  },
  {
   "cell_type": "code",
   "execution_count": 1,
   "id": "433e849a-2fca-4e96-9d48-c9fc25a569bb",
   "metadata": {},
   "outputs": [
    {
     "data": {
      "text/plain": [
       "'x'"
      ]
     },
     "execution_count": 1,
     "metadata": {},
     "output_type": "execute_result"
    }
   ],
   "source": [
    "text=\"text is a text string\"\n",
    "text[2]#indexing"
   ]
  },
  {
   "cell_type": "code",
   "execution_count": 2,
   "id": "320426cb-87d5-4eaf-89d8-f85ea08ce7c2",
   "metadata": {},
   "outputs": [
    {
     "data": {
      "text/plain": [
       "'text'"
      ]
     },
     "execution_count": 2,
     "metadata": {},
     "output_type": "execute_result"
    }
   ],
   "source": [
    "text[0:4]#slicing"
   ]
  },
  {
   "cell_type": "code",
   "execution_count": 3,
   "id": "18a965d5-9a98-41c0-a58d-70197d739491",
   "metadata": {},
   "outputs": [
    {
     "data": {
      "text/plain": [
       "'tx satx tig'"
      ]
     },
     "execution_count": 3,
     "metadata": {},
     "output_type": "execute_result"
    }
   ],
   "source": [
    "text[0::2]#silicing with jump (leaving)2"
   ]
  },
  {
   "cell_type": "code",
   "execution_count": 4,
   "id": "f9a4f663-8cfd-4dc3-ab9f-7fb7e04d94bc",
   "metadata": {},
   "outputs": [
    {
     "name": "stdout",
     "output_type": "stream",
     "text": [
      "21\n"
     ]
    }
   ],
   "source": [
    "print( len(text))#length"
   ]
  },
  {
   "cell_type": "code",
   "execution_count": 5,
   "id": "8449a9d0-3caf-4f8d-963b-aa69676dcd31",
   "metadata": {},
   "outputs": [
    {
     "name": "stdout",
     "output_type": "stream",
     "text": [
      "text is a text string   \n"
     ]
    }
   ],
   "source": [
    "text=text+\"   \"\n",
    "print(text)"
   ]
  },
  {
   "cell_type": "code",
   "execution_count": 6,
   "id": "9249ef2f-7271-48a9-810b-26737552bd0b",
   "metadata": {},
   "outputs": [
    {
     "data": {
      "text/plain": [
       "'text is a text string   text is a text string   '"
      ]
     },
     "execution_count": 6,
     "metadata": {},
     "output_type": "execute_result"
    }
   ],
   "source": [
    "text*2"
   ]
  },
  {
   "cell_type": "code",
   "execution_count": 7,
   "id": "ed580c22-753a-4de1-bdf6-de789755001f",
   "metadata": {},
   "outputs": [
    {
     "data": {
      "text/plain": [
       "'text is a text string   '"
      ]
     },
     "execution_count": 7,
     "metadata": {},
     "output_type": "execute_result"
    }
   ],
   "source": [
    "text"
   ]
  },
  {
   "cell_type": "code",
   "execution_count": 8,
   "id": "907b6507-d459-4f75-a519-1a994f60c40b",
   "metadata": {},
   "outputs": [
    {
     "data": {
      "text/plain": [
       "'text is a text string'"
      ]
     },
     "execution_count": 8,
     "metadata": {},
     "output_type": "execute_result"
    }
   ],
   "source": [
    "text.strip()"
   ]
  },
  {
   "cell_type": "code",
   "execution_count": 9,
   "id": "e95a5a65-3f0b-4138-a519-1f419e389c8a",
   "metadata": {},
   "outputs": [
    {
     "data": {
      "text/plain": [
       "'text is a text string'"
      ]
     },
     "execution_count": 9,
     "metadata": {},
     "output_type": "execute_result"
    }
   ],
   "source": [
    "text.rstrip()"
   ]
  },
  {
   "cell_type": "code",
   "execution_count": 10,
   "id": "6eaeefae-7a7b-43d4-a1e3-d821e8a42ea1",
   "metadata": {},
   "outputs": [
    {
     "data": {
      "text/plain": [
       "['text', 'is', 'a', 'text', 'string']"
      ]
     },
     "execution_count": 10,
     "metadata": {},
     "output_type": "execute_result"
    }
   ],
   "source": [
    "text.split()"
   ]
  },
  {
   "cell_type": "code",
   "execution_count": 16,
   "id": "f9d380b9-ac96-4a81-8434-2dc7a70f303b",
   "metadata": {},
   "outputs": [
    {
     "data": {
      "text/plain": [
       "'text is a text string   ,lalalalala%%%%,lalalalala'"
      ]
     },
     "execution_count": 16,
     "metadata": {},
     "output_type": "execute_result"
    }
   ],
   "source": [
    "text=text+\",\"+\"lalalalala\"\n",
    "text"
   ]
  },
  {
   "cell_type": "code",
   "execution_count": 13,
   "id": "0a0fe998-3f9d-4071-b43f-88e163a201b7",
   "metadata": {},
   "outputs": [
    {
     "data": {
      "text/plain": [
       "['text', 'is', 'a', 'text', 'string', ',lalalalala']"
      ]
     },
     "execution_count": 13,
     "metadata": {},
     "output_type": "execute_result"
    }
   ],
   "source": [
    "text.split()"
   ]
  },
  {
   "cell_type": "code",
   "execution_count": 15,
   "id": "54369f9d-bd40-4807-b39c-e2bcdb0f9560",
   "metadata": {},
   "outputs": [
    {
     "data": {
      "text/plain": [
       "'text is a text string   ,lalalalala%%%%'"
      ]
     },
     "execution_count": 15,
     "metadata": {},
     "output_type": "execute_result"
    }
   ],
   "source": [
    "text=text+\"%%\"\n",
    "text"
   ]
  },
  {
   "cell_type": "code",
   "execution_count": 17,
   "id": "21ec481a-40c9-4033-9399-b0369169c091",
   "metadata": {},
   "outputs": [
    {
     "data": {
      "text/plain": [
       "'text is a text string   ,lalalalala%%%%,lalalalala'"
      ]
     },
     "execution_count": 17,
     "metadata": {},
     "output_type": "execute_result"
    }
   ],
   "source": [
    "text.strip()"
   ]
  },
  {
   "cell_type": "code",
   "execution_count": 18,
   "id": "3e96f732-69ec-4551-9a09-aca638ff5186",
   "metadata": {},
   "outputs": [
    {
     "data": {
      "text/plain": [
       "'TEXT IS A TEXT STRING   ,LALALALALA%%%%,LALALALALA'"
      ]
     },
     "execution_count": 18,
     "metadata": {},
     "output_type": "execute_result"
    }
   ],
   "source": [
    "text.upper()"
   ]
  },
  {
   "cell_type": "code",
   "execution_count": 19,
   "id": "0236dc69-7426-4701-ab3a-35113308e84e",
   "metadata": {},
   "outputs": [
    {
     "data": {
      "text/plain": [
       "'text is a text string   ,lalalalala%%%%,lalalalala'"
      ]
     },
     "execution_count": 19,
     "metadata": {},
     "output_type": "execute_result"
    }
   ],
   "source": [
    "text.lower()"
   ]
  },
  {
   "cell_type": "code",
   "execution_count": 20,
   "id": "af1bfee9-14cb-4cf3-8ec2-3a929dfc669f",
   "metadata": {},
   "outputs": [
    {
     "data": {
      "text/plain": [
       "5"
      ]
     },
     "execution_count": 20,
     "metadata": {},
     "output_type": "execute_result"
    }
   ],
   "source": [
    "text.count(\"t\")"
   ]
  },
  {
   "cell_type": "code",
   "execution_count": 21,
   "id": "cd03aa41-c342-4d8c-808f-2982611ed75d",
   "metadata": {},
   "outputs": [
    {
     "name": "stdout",
     "output_type": "stream",
     "text": [
      "True\n"
     ]
    }
   ],
   "source": [
    "print(\"is\" in text)"
   ]
  },
  {
   "cell_type": "code",
   "execution_count": 22,
   "id": "4839fec4-2765-4bec-8370-526d865e7af9",
   "metadata": {},
   "outputs": [
    {
     "name": "stdout",
     "output_type": "stream",
     "text": [
      "False\n"
     ]
    }
   ],
   "source": [
    "print(\"is\" not in text)"
   ]
  },
  {
   "cell_type": "code",
   "execution_count": 29,
   "id": "05dede4e-2fa0-445a-bebb-09ed3db8c561",
   "metadata": {},
   "outputs": [],
   "source": [
    "name = \"Achal Bisht\"\n",
    "a=1\n",
    "b=2.5"
   ]
  },
  {
   "cell_type": "code",
   "execution_count": 30,
   "id": "832709a9-94c0-4018-9b4c-a37f96fdc61e",
   "metadata": {},
   "outputs": [
    {
     "name": "stdout",
     "output_type": "stream",
     "text": [
      "hey,Achal Bisht\n"
     ]
    }
   ],
   "source": [
    "print(\"hey,{}\".format(name))"
   ]
  },
  {
   "cell_type": "code",
   "execution_count": 31,
   "id": "8551000b-80e1-485d-b76b-38a207ee8c22",
   "metadata": {},
   "outputs": [
    {
     "name": "stdout",
     "output_type": "stream",
     "text": [
      "hey,Achal Bisht,1,2.5\n"
     ]
    }
   ],
   "source": [
    "print(\"hey,{},{},{}\".format(name,a,b))"
   ]
  },
  {
   "cell_type": "code",
   "execution_count": 36,
   "id": "8bdb4f34-00d5-41af-8946-3bc51638b44c",
   "metadata": {},
   "outputs": [
    {
     "name": "stdout",
     "output_type": "stream",
     "text": [
      "!!!!!!achal, pooja, aditya!!!!!!\n"
     ]
    }
   ],
   "source": [
    "a=\"!!!!!!achal, pooja, aditya!!!!!!\"\n",
    "print(a)"
   ]
  },
  {
   "cell_type": "code",
   "execution_count": 38,
   "id": "41ce7717-ad3f-4413-9604-72e0884d272a",
   "metadata": {},
   "outputs": [
    {
     "data": {
      "text/plain": [
       "'!!!!!!ACHAL, POOJA, ADITYA!!!!!!'"
      ]
     },
     "execution_count": 38,
     "metadata": {},
     "output_type": "execute_result"
    }
   ],
   "source": [
    "a.upper()"
   ]
  },
  {
   "cell_type": "code",
   "execution_count": 39,
   "id": "e7d92438-1454-46ff-8d05-75079aa8a395",
   "metadata": {},
   "outputs": [
    {
     "data": {
      "text/plain": [
       "'!!!!!!achal, pooja, aditya!!!!!!'"
      ]
     },
     "execution_count": 39,
     "metadata": {},
     "output_type": "execute_result"
    }
   ],
   "source": [
    "a.lower()"
   ]
  },
  {
   "cell_type": "code",
   "execution_count": 40,
   "id": "cfa8a5a8-42b7-4d79-b2f4-8f6b0ccaa3b3",
   "metadata": {},
   "outputs": [
    {
     "data": {
      "text/plain": [
       "'achal, pooja, aditya'"
      ]
     },
     "execution_count": 40,
     "metadata": {},
     "output_type": "execute_result"
    }
   ],
   "source": [
    "a.strip(\"!\")"
   ]
  },
  {
   "cell_type": "code",
   "execution_count": 41,
   "id": "2d36c1d0-2b1c-44e3-86ee-72117ab999d6",
   "metadata": {},
   "outputs": [
    {
     "data": {
      "text/plain": [
       "'!!!!!!achal, pooja, aditya'"
      ]
     },
     "execution_count": 41,
     "metadata": {},
     "output_type": "execute_result"
    }
   ],
   "source": [
    "a.rstrip(\"!\")"
   ]
  },
  {
   "cell_type": "code",
   "execution_count": 42,
   "id": "2e36b1c7-df59-43dc-adfa-2c0d0612dc07",
   "metadata": {},
   "outputs": [
    {
     "data": {
      "text/plain": [
       "'achal, pooja, aditya!!!!!!'"
      ]
     },
     "execution_count": 42,
     "metadata": {},
     "output_type": "execute_result"
    }
   ],
   "source": [
    "a.lstrip(\"!\")"
   ]
  },
  {
   "cell_type": "code",
   "execution_count": 43,
   "id": "5bb5482d-e2e2-4754-94a0-1b90e7b4e3bd",
   "metadata": {},
   "outputs": [
    {
     "data": {
      "text/plain": [
       "'!!!!!!Aditya, pooja, aditya!!!!!!'"
      ]
     },
     "execution_count": 43,
     "metadata": {},
     "output_type": "execute_result"
    }
   ],
   "source": [
    "a.replace(\"achal\",\"Aditya\")"
   ]
  },
  {
   "cell_type": "code",
   "execution_count": 44,
   "id": "3948b09f-3c90-4a8d-9ecd-59d793ef84b5",
   "metadata": {
    "scrolled": true
   },
   "outputs": [
    {
     "data": {
      "text/plain": [
       "['!!!!!!achal,', 'pooja,', 'aditya!!!!!!']"
      ]
     },
     "execution_count": 44,
     "metadata": {},
     "output_type": "execute_result"
    }
   ],
   "source": [
    "a.split(\" \")"
   ]
  },
  {
   "cell_type": "code",
   "execution_count": 45,
   "id": "214dd2af-5b02-4f5c-9eab-3cd6ca9c0da0",
   "metadata": {},
   "outputs": [
    {
     "data": {
      "text/plain": [
       "'Achal is good girl 123456789'"
      ]
     },
     "execution_count": 45,
     "metadata": {},
     "output_type": "execute_result"
    }
   ],
   "source": [
    "b = \"achal is Good Girl 123456789\"\n",
    "b.capitalize()"
   ]
  },
  {
   "cell_type": "code",
   "execution_count": 33,
   "id": "0c6efcfa-95c2-4813-bad1-167f59eb8b9d",
   "metadata": {},
   "outputs": [
    {
     "data": {
      "text/plain": [
       "28"
      ]
     },
     "execution_count": 33,
     "metadata": {},
     "output_type": "execute_result"
    }
   ],
   "source": [
    "len(b)"
   ]
  },
  {
   "cell_type": "code",
   "execution_count": 34,
   "id": "b68066fb-3700-4bba-bde9-d520d5462f81",
   "metadata": {},
   "outputs": [
    {
     "data": {
      "text/plain": [
       "50"
      ]
     },
     "execution_count": 34,
     "metadata": {},
     "output_type": "execute_result"
    }
   ],
   "source": [
    "len(b.center(50))"
   ]
  },
  {
   "cell_type": "code",
   "execution_count": 46,
   "id": "871ec949-a0bb-4372-bf01-7a658f7d84e9",
   "metadata": {},
   "outputs": [
    {
     "data": {
      "text/plain": [
       "1"
      ]
     },
     "execution_count": 46,
     "metadata": {},
     "output_type": "execute_result"
    }
   ],
   "source": [
    "a.count(\"aditya\")"
   ]
  },
  {
   "cell_type": "code",
   "execution_count": 47,
   "id": "a90cf9d5-5f19-4c44-a9ad-5778f3eb108e",
   "metadata": {},
   "outputs": [
    {
     "data": {
      "text/plain": [
       "True"
      ]
     },
     "execution_count": 47,
     "metadata": {},
     "output_type": "execute_result"
    }
   ],
   "source": [
    "a.endswith(\"!!!\")"
   ]
  },
  {
   "cell_type": "code",
   "execution_count": 48,
   "id": "29ce7334-b9c4-40d0-9d1e-d49c9b985097",
   "metadata": {},
   "outputs": [
    {
     "data": {
      "text/plain": [
       "False"
      ]
     },
     "execution_count": 48,
     "metadata": {},
     "output_type": "execute_result"
    }
   ],
   "source": [
    "a.endswith(\"achal\")"
   ]
  },
  {
   "cell_type": "code",
   "execution_count": 49,
   "id": "f351240a-b926-4f4c-8d7b-7061c6107f92",
   "metadata": {},
   "outputs": [
    {
     "data": {
      "text/plain": [
       "True"
      ]
     },
     "execution_count": 49,
     "metadata": {},
     "output_type": "execute_result"
    }
   ],
   "source": [
    "b.endswith(\"is\",3,8)"
   ]
  },
  {
   "cell_type": "code",
   "execution_count": 50,
   "id": "fb69ad54-2063-4fb4-97af-5785ccf0e0c0",
   "metadata": {},
   "outputs": [
    {
     "data": {
      "text/plain": [
       "6"
      ]
     },
     "execution_count": 50,
     "metadata": {},
     "output_type": "execute_result"
    }
   ],
   "source": [
    "b.find(\"i\")"
   ]
  },
  {
   "cell_type": "code",
   "execution_count": 51,
   "id": "8ae1ee75-6b94-4848-9dc3-ca6396d9da0c",
   "metadata": {},
   "outputs": [
    {
     "data": {
      "text/plain": [
       "-1"
      ]
     },
     "execution_count": 51,
     "metadata": {},
     "output_type": "execute_result"
    }
   ],
   "source": [
    "b.find(\"issss\")"
   ]
  },
  {
   "cell_type": "code",
   "execution_count": 52,
   "id": "9cfef538-03cd-4533-9972-bb573b5f04ef",
   "metadata": {},
   "outputs": [
    {
     "data": {
      "text/plain": [
       "6"
      ]
     },
     "execution_count": 52,
     "metadata": {},
     "output_type": "execute_result"
    }
   ],
   "source": [
    "b.index(\"i\")"
   ]
  },
  {
   "cell_type": "code",
   "execution_count": 53,
   "id": "1e9e59a0-2392-4659-8a4b-97b021381daa",
   "metadata": {},
   "outputs": [
    {
     "data": {
      "text/plain": [
       "False"
      ]
     },
     "execution_count": 53,
     "metadata": {},
     "output_type": "execute_result"
    }
   ],
   "source": [
    "b.isalnum()# without space a-z ,0-9"
   ]
  },
  {
   "cell_type": "code",
   "execution_count": 55,
   "id": "67d34058-bc05-4949-93d3-2a7552b9a4a5",
   "metadata": {},
   "outputs": [
    {
     "data": {
      "text/plain": [
       "True"
      ]
     },
     "execution_count": 55,
     "metadata": {},
     "output_type": "execute_result"
    }
   ],
   "source": [
    "r =\"achalisGoodGirl123456789\"\n",
    "r.isalnum()"
   ]
  },
  {
   "cell_type": "code",
   "execution_count": 56,
   "id": "a7b45600-9e00-4f51-9225-4936e179bf55",
   "metadata": {},
   "outputs": [
    {
     "data": {
      "text/plain": [
       "True"
      ]
     },
     "execution_count": 56,
     "metadata": {},
     "output_type": "execute_result"
    }
   ],
   "source": [
    "w =\"WelcomeTheToConsole\"#a-zo nly\n",
    "w.isalpha()"
   ]
  },
  {
   "cell_type": "code",
   "execution_count": 58,
   "id": "df61c283-405d-40b2-97ed-fb56463156a4",
   "metadata": {},
   "outputs": [
    {
     "data": {
      "text/plain": [
       "True"
      ]
     },
     "execution_count": 58,
     "metadata": {},
     "output_type": "execute_result"
    }
   ],
   "source": [
    "t=\"achal\"\n",
    "t.islower()"
   ]
  },
  {
   "cell_type": "code",
   "execution_count": 59,
   "id": "efd69ff6-b2c7-458b-8f7a-49dd79a71a8b",
   "metadata": {},
   "outputs": [
    {
     "data": {
      "text/plain": [
       "True"
      ]
     },
     "execution_count": 59,
     "metadata": {},
     "output_type": "execute_result"
    }
   ],
   "source": [
    "r.isprintable()"
   ]
  },
  {
   "cell_type": "code",
   "execution_count": 60,
   "id": "03720d40-3f7b-4012-8e61-b788681d43ad",
   "metadata": {},
   "outputs": [
    {
     "data": {
      "text/plain": [
       "False"
      ]
     },
     "execution_count": 60,
     "metadata": {},
     "output_type": "execute_result"
    }
   ],
   "source": [
    "q=\"achalisGoodGirl123456789\\n\"#\\n is not print\n",
    "q.isprintable()"
   ]
  },
  {
   "cell_type": "code",
   "execution_count": 61,
   "id": "1f9ecf36-e598-456e-9f73-661455e2c3b3",
   "metadata": {},
   "outputs": [
    {
     "data": {
      "text/plain": [
       "True"
      ]
     },
     "execution_count": 61,
     "metadata": {},
     "output_type": "execute_result"
    }
   ],
   "source": [
    "e=\"ACHAL\"\n",
    "e.isupper()\n"
   ]
  },
  {
   "cell_type": "code",
   "execution_count": 62,
   "id": "e251e198-f84e-4da6-a9a9-9858d94311e1",
   "metadata": {},
   "outputs": [
    {
     "data": {
      "text/plain": [
       "True"
      ]
     },
     "execution_count": 62,
     "metadata": {},
     "output_type": "execute_result"
    }
   ],
   "source": [
    "w.startswith(\"Welcome\")"
   ]
  },
  {
   "cell_type": "code",
   "execution_count": 63,
   "id": "28656e14-e862-49ef-8550-9d49233ceb9d",
   "metadata": {},
   "outputs": [
    {
     "data": {
      "text/plain": [
       "False"
      ]
     },
     "execution_count": 63,
     "metadata": {},
     "output_type": "execute_result"
    }
   ],
   "source": [
    "w.istitle()# required space\n"
   ]
  },
  {
   "cell_type": "code",
   "execution_count": 64,
   "id": "35e4ea9b-1afa-4759-9a43-d78854eb26e6",
   "metadata": {},
   "outputs": [
    {
     "data": {
      "text/plain": [
       "'ACHALISgOODgIRL123456789\\n'"
      ]
     },
     "execution_count": 64,
     "metadata": {},
     "output_type": "execute_result"
    }
   ],
   "source": [
    "q.swapcase()#convert uppar alphabet to lower and lower to upper"
   ]
  },
  {
   "cell_type": "code",
   "execution_count": 65,
   "id": "a8fa813c-7985-40d0-8838-3192cc0e67b1",
   "metadata": {},
   "outputs": [
    {
     "data": {
      "text/plain": [
       "'Achal Is Good Girl 123456789'"
      ]
     },
     "execution_count": 65,
     "metadata": {},
     "output_type": "execute_result"
    }
   ],
   "source": [
    "b.title()# covert all firstletter in capital to make it title"
   ]
  },
  {
   "cell_type": "code",
   "execution_count": null,
   "id": "96e31d5e-b68a-4b64-a7ef-98540a6f11bd",
   "metadata": {},
   "outputs": [],
   "source": []
  }
 ],
 "metadata": {
  "kernelspec": {
   "display_name": "Python 3 (ipykernel)",
   "language": "python",
   "name": "python3"
  },
  "language_info": {
   "codemirror_mode": {
    "name": "ipython",
    "version": 3
   },
   "file_extension": ".py",
   "mimetype": "text/x-python",
   "name": "python",
   "nbconvert_exporter": "python",
   "pygments_lexer": "ipython3",
   "version": "3.11.7"
  }
 },
 "nbformat": 4,
 "nbformat_minor": 5
}
